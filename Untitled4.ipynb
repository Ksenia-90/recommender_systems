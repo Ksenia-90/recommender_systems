{
  "nbformat": 4,
  "nbformat_minor": 0,
  "metadata": {
    "colab": {
      "name": "Untitled4.ipynb",
      "provenance": [],
      "authorship_tag": "ABX9TyN6yRFna+2tNym2tDP/Qx47",
      "include_colab_link": true
    },
    "kernelspec": {
      "name": "python3",
      "display_name": "Python 3"
    },
    "language_info": {
      "name": "python"
    }
  },
  "cells": [
    {
      "cell_type": "markdown",
      "metadata": {
        "id": "view-in-github",
        "colab_type": "text"
      },
      "source": [
        "<a href=\"https://colab.research.google.com/github/Ksenia-90/recommender_systems/blob/lesson_2_2/Untitled4.ipynb\" target=\"_parent\"><img src=\"https://colab.research.google.com/assets/colab-badge.svg\" alt=\"Open In Colab\"/></a>"
      ]
    },
    {
      "cell_type": "code",
      "execution_count": null,
      "metadata": {
        "id": "p3Crw-vN4z1C"
      },
      "outputs": [],
      "source": [
        ""
      ]
    },
    {
      "cell_type": "code",
      "source": [
        "!pip install implicit==0.4.4"
      ],
      "metadata": {
        "id": "O19f7Qt6SqdP",
        "colab": {
          "base_uri": "https://localhost:8080/"
        },
        "outputId": "48fc2e35-247d-4155-898a-d0950f27bf83"
      },
      "execution_count": null,
      "outputs": [
        {
          "output_type": "stream",
          "name": "stdout",
          "text": [
            "Collecting implicit==0.4.4\n",
            "  Downloading implicit-0.4.4.tar.gz (1.1 MB)\n",
            "\u001b[?25l\r\u001b[K     |▎                               | 10 kB 18.1 MB/s eta 0:00:01\r\u001b[K     |▋                               | 20 kB 12.9 MB/s eta 0:00:01\r\u001b[K     |▉                               | 30 kB 8.1 MB/s eta 0:00:01\r\u001b[K     |█▏                              | 40 kB 8.9 MB/s eta 0:00:01\r\u001b[K     |█▌                              | 51 kB 7.9 MB/s eta 0:00:01\r\u001b[K     |█▊                              | 61 kB 9.2 MB/s eta 0:00:01\r\u001b[K     |██                              | 71 kB 8.7 MB/s eta 0:00:01\r\u001b[K     |██▍                             | 81 kB 9.2 MB/s eta 0:00:01\r\u001b[K     |██▋                             | 92 kB 10.1 MB/s eta 0:00:01\r\u001b[K     |███                             | 102 kB 9.7 MB/s eta 0:00:01\r\u001b[K     |███▎                            | 112 kB 9.7 MB/s eta 0:00:01\r\u001b[K     |███▌                            | 122 kB 9.7 MB/s eta 0:00:01\r\u001b[K     |███▉                            | 133 kB 9.7 MB/s eta 0:00:01\r\u001b[K     |████▏                           | 143 kB 9.7 MB/s eta 0:00:01\r\u001b[K     |████▍                           | 153 kB 9.7 MB/s eta 0:00:01\r\u001b[K     |████▊                           | 163 kB 9.7 MB/s eta 0:00:01\r\u001b[K     |█████                           | 174 kB 9.7 MB/s eta 0:00:01\r\u001b[K     |█████▎                          | 184 kB 9.7 MB/s eta 0:00:01\r\u001b[K     |█████▋                          | 194 kB 9.7 MB/s eta 0:00:01\r\u001b[K     |██████                          | 204 kB 9.7 MB/s eta 0:00:01\r\u001b[K     |██████▏                         | 215 kB 9.7 MB/s eta 0:00:01\r\u001b[K     |██████▌                         | 225 kB 9.7 MB/s eta 0:00:01\r\u001b[K     |██████▉                         | 235 kB 9.7 MB/s eta 0:00:01\r\u001b[K     |███████                         | 245 kB 9.7 MB/s eta 0:00:01\r\u001b[K     |███████▍                        | 256 kB 9.7 MB/s eta 0:00:01\r\u001b[K     |███████▊                        | 266 kB 9.7 MB/s eta 0:00:01\r\u001b[K     |████████                        | 276 kB 9.7 MB/s eta 0:00:01\r\u001b[K     |████████▎                       | 286 kB 9.7 MB/s eta 0:00:01\r\u001b[K     |████████▋                       | 296 kB 9.7 MB/s eta 0:00:01\r\u001b[K     |████████▉                       | 307 kB 9.7 MB/s eta 0:00:01\r\u001b[K     |█████████▏                      | 317 kB 9.7 MB/s eta 0:00:01\r\u001b[K     |█████████▌                      | 327 kB 9.7 MB/s eta 0:00:01\r\u001b[K     |█████████▊                      | 337 kB 9.7 MB/s eta 0:00:01\r\u001b[K     |██████████                      | 348 kB 9.7 MB/s eta 0:00:01\r\u001b[K     |██████████▍                     | 358 kB 9.7 MB/s eta 0:00:01\r\u001b[K     |██████████▋                     | 368 kB 9.7 MB/s eta 0:00:01\r\u001b[K     |███████████                     | 378 kB 9.7 MB/s eta 0:00:01\r\u001b[K     |███████████▏                    | 389 kB 9.7 MB/s eta 0:00:01\r\u001b[K     |███████████▌                    | 399 kB 9.7 MB/s eta 0:00:01\r\u001b[K     |███████████▉                    | 409 kB 9.7 MB/s eta 0:00:01\r\u001b[K     |████████████                    | 419 kB 9.7 MB/s eta 0:00:01\r\u001b[K     |████████████▍                   | 430 kB 9.7 MB/s eta 0:00:01\r\u001b[K     |████████████▊                   | 440 kB 9.7 MB/s eta 0:00:01\r\u001b[K     |█████████████                   | 450 kB 9.7 MB/s eta 0:00:01\r\u001b[K     |█████████████▎                  | 460 kB 9.7 MB/s eta 0:00:01\r\u001b[K     |█████████████▋                  | 471 kB 9.7 MB/s eta 0:00:01\r\u001b[K     |█████████████▉                  | 481 kB 9.7 MB/s eta 0:00:01\r\u001b[K     |██████████████▏                 | 491 kB 9.7 MB/s eta 0:00:01\r\u001b[K     |██████████████▌                 | 501 kB 9.7 MB/s eta 0:00:01\r\u001b[K     |██████████████▊                 | 512 kB 9.7 MB/s eta 0:00:01\r\u001b[K     |███████████████                 | 522 kB 9.7 MB/s eta 0:00:01\r\u001b[K     |███████████████▍                | 532 kB 9.7 MB/s eta 0:00:01\r\u001b[K     |███████████████▋                | 542 kB 9.7 MB/s eta 0:00:01\r\u001b[K     |████████████████                | 552 kB 9.7 MB/s eta 0:00:01\r\u001b[K     |████████████████▎               | 563 kB 9.7 MB/s eta 0:00:01\r\u001b[K     |████████████████▌               | 573 kB 9.7 MB/s eta 0:00:01\r\u001b[K     |████████████████▉               | 583 kB 9.7 MB/s eta 0:00:01\r\u001b[K     |█████████████████▏              | 593 kB 9.7 MB/s eta 0:00:01\r\u001b[K     |█████████████████▍              | 604 kB 9.7 MB/s eta 0:00:01\r\u001b[K     |█████████████████▊              | 614 kB 9.7 MB/s eta 0:00:01\r\u001b[K     |██████████████████              | 624 kB 9.7 MB/s eta 0:00:01\r\u001b[K     |██████████████████▎             | 634 kB 9.7 MB/s eta 0:00:01\r\u001b[K     |██████████████████▋             | 645 kB 9.7 MB/s eta 0:00:01\r\u001b[K     |███████████████████             | 655 kB 9.7 MB/s eta 0:00:01\r\u001b[K     |███████████████████▏            | 665 kB 9.7 MB/s eta 0:00:01\r\u001b[K     |███████████████████▌            | 675 kB 9.7 MB/s eta 0:00:01\r\u001b[K     |███████████████████▉            | 686 kB 9.7 MB/s eta 0:00:01\r\u001b[K     |████████████████████            | 696 kB 9.7 MB/s eta 0:00:01\r\u001b[K     |████████████████████▍           | 706 kB 9.7 MB/s eta 0:00:01\r\u001b[K     |████████████████████▊           | 716 kB 9.7 MB/s eta 0:00:01\r\u001b[K     |█████████████████████           | 727 kB 9.7 MB/s eta 0:00:01\r\u001b[K     |█████████████████████▎          | 737 kB 9.7 MB/s eta 0:00:01\r\u001b[K     |█████████████████████▋          | 747 kB 9.7 MB/s eta 0:00:01\r\u001b[K     |█████████████████████▉          | 757 kB 9.7 MB/s eta 0:00:01\r\u001b[K     |██████████████████████▏         | 768 kB 9.7 MB/s eta 0:00:01\r\u001b[K     |██████████████████████▍         | 778 kB 9.7 MB/s eta 0:00:01\r\u001b[K     |██████████████████████▊         | 788 kB 9.7 MB/s eta 0:00:01\r\u001b[K     |███████████████████████         | 798 kB 9.7 MB/s eta 0:00:01\r\u001b[K     |███████████████████████▎        | 808 kB 9.7 MB/s eta 0:00:01\r\u001b[K     |███████████████████████▋        | 819 kB 9.7 MB/s eta 0:00:01\r\u001b[K     |████████████████████████        | 829 kB 9.7 MB/s eta 0:00:01\r\u001b[K     |████████████████████████▏       | 839 kB 9.7 MB/s eta 0:00:01\r\u001b[K     |████████████████████████▌       | 849 kB 9.7 MB/s eta 0:00:01\r\u001b[K     |████████████████████████▉       | 860 kB 9.7 MB/s eta 0:00:01\r\u001b[K     |█████████████████████████       | 870 kB 9.7 MB/s eta 0:00:01\r\u001b[K     |█████████████████████████▍      | 880 kB 9.7 MB/s eta 0:00:01\r\u001b[K     |█████████████████████████▊      | 890 kB 9.7 MB/s eta 0:00:01\r\u001b[K     |██████████████████████████      | 901 kB 9.7 MB/s eta 0:00:01\r\u001b[K     |██████████████████████████▎     | 911 kB 9.7 MB/s eta 0:00:01\r\u001b[K     |██████████████████████████▋     | 921 kB 9.7 MB/s eta 0:00:01\r\u001b[K     |██████████████████████████▉     | 931 kB 9.7 MB/s eta 0:00:01\r\u001b[K     |███████████████████████████▏    | 942 kB 9.7 MB/s eta 0:00:01\r\u001b[K     |███████████████████████████▌    | 952 kB 9.7 MB/s eta 0:00:01\r\u001b[K     |███████████████████████████▊    | 962 kB 9.7 MB/s eta 0:00:01\r\u001b[K     |████████████████████████████    | 972 kB 9.7 MB/s eta 0:00:01\r\u001b[K     |████████████████████████████▍   | 983 kB 9.7 MB/s eta 0:00:01\r\u001b[K     |████████████████████████████▋   | 993 kB 9.7 MB/s eta 0:00:01\r\u001b[K     |█████████████████████████████   | 1.0 MB 9.7 MB/s eta 0:00:01\r\u001b[K     |█████████████████████████████▎  | 1.0 MB 9.7 MB/s eta 0:00:01\r\u001b[K     |█████████████████████████████▌  | 1.0 MB 9.7 MB/s eta 0:00:01\r\u001b[K     |█████████████████████████████▉  | 1.0 MB 9.7 MB/s eta 0:00:01\r\u001b[K     |██████████████████████████████▏ | 1.0 MB 9.7 MB/s eta 0:00:01\r\u001b[K     |██████████████████████████████▍ | 1.1 MB 9.7 MB/s eta 0:00:01\r\u001b[K     |██████████████████████████████▊ | 1.1 MB 9.7 MB/s eta 0:00:01\r\u001b[K     |███████████████████████████████ | 1.1 MB 9.7 MB/s eta 0:00:01\r\u001b[K     |███████████████████████████████▎| 1.1 MB 9.7 MB/s eta 0:00:01\r\u001b[K     |███████████████████████████████▋| 1.1 MB 9.7 MB/s eta 0:00:01\r\u001b[K     |████████████████████████████████| 1.1 MB 9.7 MB/s eta 0:00:01\r\u001b[K     |████████████████████████████████| 1.1 MB 9.7 MB/s \n",
            "\u001b[?25hRequirement already satisfied: numpy in /usr/local/lib/python3.7/dist-packages (from implicit==0.4.4) (1.21.5)\n",
            "Requirement already satisfied: scipy>=0.16 in /usr/local/lib/python3.7/dist-packages (from implicit==0.4.4) (1.4.1)\n",
            "Requirement already satisfied: tqdm>=4.27 in /usr/local/lib/python3.7/dist-packages (from implicit==0.4.4) (4.64.0)\n",
            "Building wheels for collected packages: implicit\n",
            "  Building wheel for implicit (setup.py) ... \u001b[?25l\u001b[?25hdone\n",
            "  Created wheel for implicit: filename=implicit-0.4.4-cp37-cp37m-linux_x86_64.whl size=3413788 sha256=4e6a37998a16452b909ffe70fd69901159175cd512a3e651e3f708d604d243bc\n",
            "  Stored in directory: /root/.cache/pip/wheels/44/7e/7d/a17324ea207cfbe76aca878b5b8ca0aa932cf55d163329be37\n",
            "Successfully built implicit\n",
            "Installing collected packages: implicit\n",
            "Successfully installed implicit-0.4.4\n"
          ]
        }
      ]
    },
    {
      "cell_type": "code",
      "execution_count": null,
      "metadata": {
        "id": "RiIREx72S9W_"
      },
      "outputs": [],
      "source": [
        "import pandas as pd\n",
        "import numpy as np\n",
        "import matplotlib.pyplot as plt\n",
        "%matplotlib inline\n",
        "\n",
        "# Для работы с матрицами\n",
        "from scipy.sparse import csr_matrix, coo_matrix\n",
        "\n",
        "# Детерминированные алгоритмы\n",
        "from implicit.nearest_neighbours import ItemItemRecommender, CosineRecommender, TFIDFRecommender, BM25Recommender\n",
        "\n",
        "# Метрики\n",
        "from implicit.evaluation import train_test_split\n",
        "from implicit.evaluation import precision_at_k, mean_average_precision_at_k, AUC_at_k, ndcg_at_k"
      ]
    },
    {
      "cell_type": "code",
      "source": [
        "from google.colab import drive\n",
        "drive.mount('/content/drive')"
      ],
      "metadata": {
        "id": "qCDs4-N9zQ8p"
      },
      "execution_count": null,
      "outputs": []
    },
    {
      "cell_type": "code",
      "source": [
        "data  = pd.read_csv(\"/drive/MyDrive/ColabNotebooks/retail_train.csv\")\n",
        "data.head(2)"
      ],
      "metadata": {
        "id": "3fjs1ek_45V-",
        "colab": {
          "base_uri": "https://localhost:8080/",
          "height": 323
        },
        "outputId": "a7a1edba-519f-44e0-bef8-74ef01803ad4"
      },
      "execution_count": null,
      "outputs": [
        {
          "output_type": "error",
          "ename": "FileNotFoundError",
          "evalue": "ignored",
          "traceback": [
            "\u001b[0;31m---------------------------------------------------------------------------\u001b[0m",
            "\u001b[0;31mFileNotFoundError\u001b[0m                         Traceback (most recent call last)",
            "\u001b[0;32m<ipython-input-6-d41778a4deaf>\u001b[0m in \u001b[0;36m<module>\u001b[0;34m()\u001b[0m\n\u001b[0;32m----> 1\u001b[0;31m \u001b[0mdata\u001b[0m  \u001b[0;34m=\u001b[0m \u001b[0mpd\u001b[0m\u001b[0;34m.\u001b[0m\u001b[0mread_csv\u001b[0m\u001b[0;34m(\u001b[0m\u001b[0;34m\"/content/retail_train.csv\"\u001b[0m\u001b[0;34m)\u001b[0m\u001b[0;34m\u001b[0m\u001b[0;34m\u001b[0m\u001b[0m\n\u001b[0m\u001b[1;32m      2\u001b[0m \u001b[0mdata\u001b[0m\u001b[0;34m.\u001b[0m\u001b[0mhead\u001b[0m\u001b[0;34m(\u001b[0m\u001b[0;36m2\u001b[0m\u001b[0;34m)\u001b[0m\u001b[0;34m\u001b[0m\u001b[0;34m\u001b[0m\u001b[0m\n",
            "\u001b[0;32m/usr/local/lib/python3.7/dist-packages/pandas/util/_decorators.py\u001b[0m in \u001b[0;36mwrapper\u001b[0;34m(*args, **kwargs)\u001b[0m\n\u001b[1;32m    309\u001b[0m                     \u001b[0mstacklevel\u001b[0m\u001b[0;34m=\u001b[0m\u001b[0mstacklevel\u001b[0m\u001b[0;34m,\u001b[0m\u001b[0;34m\u001b[0m\u001b[0;34m\u001b[0m\u001b[0m\n\u001b[1;32m    310\u001b[0m                 )\n\u001b[0;32m--> 311\u001b[0;31m             \u001b[0;32mreturn\u001b[0m \u001b[0mfunc\u001b[0m\u001b[0;34m(\u001b[0m\u001b[0;34m*\u001b[0m\u001b[0margs\u001b[0m\u001b[0;34m,\u001b[0m \u001b[0;34m**\u001b[0m\u001b[0mkwargs\u001b[0m\u001b[0;34m)\u001b[0m\u001b[0;34m\u001b[0m\u001b[0;34m\u001b[0m\u001b[0m\n\u001b[0m\u001b[1;32m    312\u001b[0m \u001b[0;34m\u001b[0m\u001b[0m\n\u001b[1;32m    313\u001b[0m         \u001b[0;32mreturn\u001b[0m \u001b[0mwrapper\u001b[0m\u001b[0;34m\u001b[0m\u001b[0;34m\u001b[0m\u001b[0m\n",
            "\u001b[0;32m/usr/local/lib/python3.7/dist-packages/pandas/io/parsers/readers.py\u001b[0m in \u001b[0;36mread_csv\u001b[0;34m(filepath_or_buffer, sep, delimiter, header, names, index_col, usecols, squeeze, prefix, mangle_dupe_cols, dtype, engine, converters, true_values, false_values, skipinitialspace, skiprows, skipfooter, nrows, na_values, keep_default_na, na_filter, verbose, skip_blank_lines, parse_dates, infer_datetime_format, keep_date_col, date_parser, dayfirst, cache_dates, iterator, chunksize, compression, thousands, decimal, lineterminator, quotechar, quoting, doublequote, escapechar, comment, encoding, encoding_errors, dialect, error_bad_lines, warn_bad_lines, on_bad_lines, delim_whitespace, low_memory, memory_map, float_precision, storage_options)\u001b[0m\n\u001b[1;32m    584\u001b[0m     \u001b[0mkwds\u001b[0m\u001b[0;34m.\u001b[0m\u001b[0mupdate\u001b[0m\u001b[0;34m(\u001b[0m\u001b[0mkwds_defaults\u001b[0m\u001b[0;34m)\u001b[0m\u001b[0;34m\u001b[0m\u001b[0;34m\u001b[0m\u001b[0m\n\u001b[1;32m    585\u001b[0m \u001b[0;34m\u001b[0m\u001b[0m\n\u001b[0;32m--> 586\u001b[0;31m     \u001b[0;32mreturn\u001b[0m \u001b[0m_read\u001b[0m\u001b[0;34m(\u001b[0m\u001b[0mfilepath_or_buffer\u001b[0m\u001b[0;34m,\u001b[0m \u001b[0mkwds\u001b[0m\u001b[0;34m)\u001b[0m\u001b[0;34m\u001b[0m\u001b[0;34m\u001b[0m\u001b[0m\n\u001b[0m\u001b[1;32m    587\u001b[0m \u001b[0;34m\u001b[0m\u001b[0m\n\u001b[1;32m    588\u001b[0m \u001b[0;34m\u001b[0m\u001b[0m\n",
            "\u001b[0;32m/usr/local/lib/python3.7/dist-packages/pandas/io/parsers/readers.py\u001b[0m in \u001b[0;36m_read\u001b[0;34m(filepath_or_buffer, kwds)\u001b[0m\n\u001b[1;32m    480\u001b[0m \u001b[0;34m\u001b[0m\u001b[0m\n\u001b[1;32m    481\u001b[0m     \u001b[0;31m# Create the parser.\u001b[0m\u001b[0;34m\u001b[0m\u001b[0;34m\u001b[0m\u001b[0;34m\u001b[0m\u001b[0m\n\u001b[0;32m--> 482\u001b[0;31m     \u001b[0mparser\u001b[0m \u001b[0;34m=\u001b[0m \u001b[0mTextFileReader\u001b[0m\u001b[0;34m(\u001b[0m\u001b[0mfilepath_or_buffer\u001b[0m\u001b[0;34m,\u001b[0m \u001b[0;34m**\u001b[0m\u001b[0mkwds\u001b[0m\u001b[0;34m)\u001b[0m\u001b[0;34m\u001b[0m\u001b[0;34m\u001b[0m\u001b[0m\n\u001b[0m\u001b[1;32m    483\u001b[0m \u001b[0;34m\u001b[0m\u001b[0m\n\u001b[1;32m    484\u001b[0m     \u001b[0;32mif\u001b[0m \u001b[0mchunksize\u001b[0m \u001b[0;32mor\u001b[0m \u001b[0miterator\u001b[0m\u001b[0;34m:\u001b[0m\u001b[0;34m\u001b[0m\u001b[0;34m\u001b[0m\u001b[0m\n",
            "\u001b[0;32m/usr/local/lib/python3.7/dist-packages/pandas/io/parsers/readers.py\u001b[0m in \u001b[0;36m__init__\u001b[0;34m(self, f, engine, **kwds)\u001b[0m\n\u001b[1;32m    809\u001b[0m             \u001b[0mself\u001b[0m\u001b[0;34m.\u001b[0m\u001b[0moptions\u001b[0m\u001b[0;34m[\u001b[0m\u001b[0;34m\"has_index_names\"\u001b[0m\u001b[0;34m]\u001b[0m \u001b[0;34m=\u001b[0m \u001b[0mkwds\u001b[0m\u001b[0;34m[\u001b[0m\u001b[0;34m\"has_index_names\"\u001b[0m\u001b[0;34m]\u001b[0m\u001b[0;34m\u001b[0m\u001b[0;34m\u001b[0m\u001b[0m\n\u001b[1;32m    810\u001b[0m \u001b[0;34m\u001b[0m\u001b[0m\n\u001b[0;32m--> 811\u001b[0;31m         \u001b[0mself\u001b[0m\u001b[0;34m.\u001b[0m\u001b[0m_engine\u001b[0m \u001b[0;34m=\u001b[0m \u001b[0mself\u001b[0m\u001b[0;34m.\u001b[0m\u001b[0m_make_engine\u001b[0m\u001b[0;34m(\u001b[0m\u001b[0mself\u001b[0m\u001b[0;34m.\u001b[0m\u001b[0mengine\u001b[0m\u001b[0;34m)\u001b[0m\u001b[0;34m\u001b[0m\u001b[0;34m\u001b[0m\u001b[0m\n\u001b[0m\u001b[1;32m    812\u001b[0m \u001b[0;34m\u001b[0m\u001b[0m\n\u001b[1;32m    813\u001b[0m     \u001b[0;32mdef\u001b[0m \u001b[0mclose\u001b[0m\u001b[0;34m(\u001b[0m\u001b[0mself\u001b[0m\u001b[0;34m)\u001b[0m\u001b[0;34m:\u001b[0m\u001b[0;34m\u001b[0m\u001b[0;34m\u001b[0m\u001b[0m\n",
            "\u001b[0;32m/usr/local/lib/python3.7/dist-packages/pandas/io/parsers/readers.py\u001b[0m in \u001b[0;36m_make_engine\u001b[0;34m(self, engine)\u001b[0m\n\u001b[1;32m   1038\u001b[0m             )\n\u001b[1;32m   1039\u001b[0m         \u001b[0;31m# error: Too many arguments for \"ParserBase\"\u001b[0m\u001b[0;34m\u001b[0m\u001b[0;34m\u001b[0m\u001b[0;34m\u001b[0m\u001b[0m\n\u001b[0;32m-> 1040\u001b[0;31m         \u001b[0;32mreturn\u001b[0m \u001b[0mmapping\u001b[0m\u001b[0;34m[\u001b[0m\u001b[0mengine\u001b[0m\u001b[0;34m]\u001b[0m\u001b[0;34m(\u001b[0m\u001b[0mself\u001b[0m\u001b[0;34m.\u001b[0m\u001b[0mf\u001b[0m\u001b[0;34m,\u001b[0m \u001b[0;34m**\u001b[0m\u001b[0mself\u001b[0m\u001b[0;34m.\u001b[0m\u001b[0moptions\u001b[0m\u001b[0;34m)\u001b[0m  \u001b[0;31m# type: ignore[call-arg]\u001b[0m\u001b[0;34m\u001b[0m\u001b[0;34m\u001b[0m\u001b[0m\n\u001b[0m\u001b[1;32m   1041\u001b[0m \u001b[0;34m\u001b[0m\u001b[0m\n\u001b[1;32m   1042\u001b[0m     \u001b[0;32mdef\u001b[0m \u001b[0m_failover_to_python\u001b[0m\u001b[0;34m(\u001b[0m\u001b[0mself\u001b[0m\u001b[0;34m)\u001b[0m\u001b[0;34m:\u001b[0m\u001b[0;34m\u001b[0m\u001b[0;34m\u001b[0m\u001b[0m\n",
            "\u001b[0;32m/usr/local/lib/python3.7/dist-packages/pandas/io/parsers/c_parser_wrapper.py\u001b[0m in \u001b[0;36m__init__\u001b[0;34m(self, src, **kwds)\u001b[0m\n\u001b[1;32m     49\u001b[0m \u001b[0;34m\u001b[0m\u001b[0m\n\u001b[1;32m     50\u001b[0m         \u001b[0;31m# open handles\u001b[0m\u001b[0;34m\u001b[0m\u001b[0;34m\u001b[0m\u001b[0;34m\u001b[0m\u001b[0m\n\u001b[0;32m---> 51\u001b[0;31m         \u001b[0mself\u001b[0m\u001b[0;34m.\u001b[0m\u001b[0m_open_handles\u001b[0m\u001b[0;34m(\u001b[0m\u001b[0msrc\u001b[0m\u001b[0;34m,\u001b[0m \u001b[0mkwds\u001b[0m\u001b[0;34m)\u001b[0m\u001b[0;34m\u001b[0m\u001b[0;34m\u001b[0m\u001b[0m\n\u001b[0m\u001b[1;32m     52\u001b[0m         \u001b[0;32massert\u001b[0m \u001b[0mself\u001b[0m\u001b[0;34m.\u001b[0m\u001b[0mhandles\u001b[0m \u001b[0;32mis\u001b[0m \u001b[0;32mnot\u001b[0m \u001b[0;32mNone\u001b[0m\u001b[0;34m\u001b[0m\u001b[0;34m\u001b[0m\u001b[0m\n\u001b[1;32m     53\u001b[0m \u001b[0;34m\u001b[0m\u001b[0m\n",
            "\u001b[0;32m/usr/local/lib/python3.7/dist-packages/pandas/io/parsers/base_parser.py\u001b[0m in \u001b[0;36m_open_handles\u001b[0;34m(self, src, kwds)\u001b[0m\n\u001b[1;32m    227\u001b[0m             \u001b[0mmemory_map\u001b[0m\u001b[0;34m=\u001b[0m\u001b[0mkwds\u001b[0m\u001b[0;34m.\u001b[0m\u001b[0mget\u001b[0m\u001b[0;34m(\u001b[0m\u001b[0;34m\"memory_map\"\u001b[0m\u001b[0;34m,\u001b[0m \u001b[0;32mFalse\u001b[0m\u001b[0;34m)\u001b[0m\u001b[0;34m,\u001b[0m\u001b[0;34m\u001b[0m\u001b[0;34m\u001b[0m\u001b[0m\n\u001b[1;32m    228\u001b[0m             \u001b[0mstorage_options\u001b[0m\u001b[0;34m=\u001b[0m\u001b[0mkwds\u001b[0m\u001b[0;34m.\u001b[0m\u001b[0mget\u001b[0m\u001b[0;34m(\u001b[0m\u001b[0;34m\"storage_options\"\u001b[0m\u001b[0;34m,\u001b[0m \u001b[0;32mNone\u001b[0m\u001b[0;34m)\u001b[0m\u001b[0;34m,\u001b[0m\u001b[0;34m\u001b[0m\u001b[0;34m\u001b[0m\u001b[0m\n\u001b[0;32m--> 229\u001b[0;31m             \u001b[0merrors\u001b[0m\u001b[0;34m=\u001b[0m\u001b[0mkwds\u001b[0m\u001b[0;34m.\u001b[0m\u001b[0mget\u001b[0m\u001b[0;34m(\u001b[0m\u001b[0;34m\"encoding_errors\"\u001b[0m\u001b[0;34m,\u001b[0m \u001b[0;34m\"strict\"\u001b[0m\u001b[0;34m)\u001b[0m\u001b[0;34m,\u001b[0m\u001b[0;34m\u001b[0m\u001b[0;34m\u001b[0m\u001b[0m\n\u001b[0m\u001b[1;32m    230\u001b[0m         )\n\u001b[1;32m    231\u001b[0m \u001b[0;34m\u001b[0m\u001b[0m\n",
            "\u001b[0;32m/usr/local/lib/python3.7/dist-packages/pandas/io/common.py\u001b[0m in \u001b[0;36mget_handle\u001b[0;34m(path_or_buf, mode, encoding, compression, memory_map, is_text, errors, storage_options)\u001b[0m\n\u001b[1;32m    705\u001b[0m                 \u001b[0mencoding\u001b[0m\u001b[0;34m=\u001b[0m\u001b[0mioargs\u001b[0m\u001b[0;34m.\u001b[0m\u001b[0mencoding\u001b[0m\u001b[0;34m,\u001b[0m\u001b[0;34m\u001b[0m\u001b[0;34m\u001b[0m\u001b[0m\n\u001b[1;32m    706\u001b[0m                 \u001b[0merrors\u001b[0m\u001b[0;34m=\u001b[0m\u001b[0merrors\u001b[0m\u001b[0;34m,\u001b[0m\u001b[0;34m\u001b[0m\u001b[0;34m\u001b[0m\u001b[0m\n\u001b[0;32m--> 707\u001b[0;31m                 \u001b[0mnewline\u001b[0m\u001b[0;34m=\u001b[0m\u001b[0;34m\"\"\u001b[0m\u001b[0;34m,\u001b[0m\u001b[0;34m\u001b[0m\u001b[0;34m\u001b[0m\u001b[0m\n\u001b[0m\u001b[1;32m    708\u001b[0m             )\n\u001b[1;32m    709\u001b[0m         \u001b[0;32melse\u001b[0m\u001b[0;34m:\u001b[0m\u001b[0;34m\u001b[0m\u001b[0;34m\u001b[0m\u001b[0m\n",
            "\u001b[0;31mFileNotFoundError\u001b[0m: [Errno 2] No such file or directory: '/content/retail_train.csv'"
          ]
        }
      ]
    },
    {
      "cell_type": "code",
      "execution_count": null,
      "metadata": {
        "id": "9qFkcgyrC8Yt",
        "outputId": "24a33bf1-942a-4b18-c54a-a7500c8f8712"
      },
      "outputs": [
        {
          "data": {
            "text/html": [
              "<div>\n",
              "<style scoped>\n",
              "    .dataframe tbody tr th:only-of-type {\n",
              "        vertical-align: middle;\n",
              "    }\n",
              "\n",
              "    .dataframe tbody tr th {\n",
              "        vertical-align: top;\n",
              "    }\n",
              "\n",
              "    .dataframe thead th {\n",
              "        text-align: right;\n",
              "    }\n",
              "</style>\n",
              "<table border=\"1\" class=\"dataframe\">\n",
              "  <thead>\n",
              "    <tr style=\"text-align: right;\">\n",
              "      <th></th>\n",
              "      <th>user_id</th>\n",
              "      <th>basket_id</th>\n",
              "      <th>day</th>\n",
              "      <th>item_id</th>\n",
              "      <th>quantity</th>\n",
              "      <th>sales_value</th>\n",
              "      <th>store_id</th>\n",
              "      <th>retail_disc</th>\n",
              "      <th>trans_time</th>\n",
              "      <th>week_no</th>\n",
              "      <th>coupon_disc</th>\n",
              "      <th>coupon_match_disc</th>\n",
              "    </tr>\n",
              "  </thead>\n",
              "  <tbody>\n",
              "    <tr>\n",
              "      <th>0</th>\n",
              "      <td>2375</td>\n",
              "      <td>26984851472</td>\n",
              "      <td>1</td>\n",
              "      <td>1004906</td>\n",
              "      <td>1</td>\n",
              "      <td>1.39</td>\n",
              "      <td>364</td>\n",
              "      <td>-0.6</td>\n",
              "      <td>1631</td>\n",
              "      <td>1</td>\n",
              "      <td>0.0</td>\n",
              "      <td>0.0</td>\n",
              "    </tr>\n",
              "    <tr>\n",
              "      <th>1</th>\n",
              "      <td>2375</td>\n",
              "      <td>26984851472</td>\n",
              "      <td>1</td>\n",
              "      <td>1033142</td>\n",
              "      <td>1</td>\n",
              "      <td>0.82</td>\n",
              "      <td>364</td>\n",
              "      <td>0.0</td>\n",
              "      <td>1631</td>\n",
              "      <td>1</td>\n",
              "      <td>0.0</td>\n",
              "      <td>0.0</td>\n",
              "    </tr>\n",
              "  </tbody>\n",
              "</table>\n",
              "</div>"
            ],
            "text/plain": [
              "   user_id    basket_id  day  item_id  quantity  sales_value  store_id  \\\n",
              "0     2375  26984851472    1  1004906         1         1.39       364   \n",
              "1     2375  26984851472    1  1033142         1         0.82       364   \n",
              "\n",
              "   retail_disc  trans_time  week_no  coupon_disc  coupon_match_disc  \n",
              "0         -0.6        1631        1          0.0                0.0  \n",
              "1          0.0        1631        1          0.0                0.0  "
            ]
          },
          "execution_count": 3,
          "metadata": {
            "tags": []
          },
          "output_type": "execute_result"
        }
      ],
      "source": [
        "#data = pd.read_csv('data/retail_train.csv')\n",
        "#data.head(2)"
      ]
    },
    {
      "cell_type": "code",
      "execution_count": null,
      "metadata": {
        "id": "epcBZlgJC8Y0"
      },
      "outputs": [],
      "source": [
        "test_size_weeks = 3\n",
        "\n",
        "data_train = data[data['week_no'] < data['week_no'].max() - test_size_weeks]\n",
        "data_test = data[data['week_no'] >= data['week_no'].max() - test_size_weeks]"
      ]
    },
    {
      "cell_type": "markdown",
      "metadata": {
        "id": "zlUUzLFeC8Y4"
      },
      "source": [
        "### Задание 1. Weighted Random Recommendation\n",
        "\n",
        "Напишите код для случайных рекоммендаций, в которых вероятность рекомендовать товар прямо пропорциональна логарифму продаж\n",
        "- Можно сэмплировать товары случайно, но пропорционально какому-либо весу\n",
        "- Например, прямопропорционально популярности. Вес = log(sales_sum товара)"
      ]
    },
    {
      "cell_type": "code",
      "execution_count": null,
      "metadata": {
        "id": "brMuCHolC8Y4"
      },
      "outputs": [],
      "source": [
        "def weighted_random_recommendation(items_weights, n=5):\n",
        "    \"\"\"Случайные рекоммендации\n",
        "    \n",
        "    Input\n",
        "    -----\n",
        "    items_weights: pd.DataFrame\n",
        "        Датафрейм со столбцами item_id, weight. Сумма weight по всем товарам = 1\n",
        "    \"\"\"\n",
        "    \n",
        "    # Подсказка: необходимо модифицировать функцию random_recommendation()\n",
        "    # your_code\n",
        "    \n",
        "    recs = np.random.choice(items_weights.item_id,\n",
        "                            p=items_weights.weight, \n",
        "                            size=n,\n",
        "                            replace=False)\n",
        "    return recs.tolist()"
      ]
    },
    {
      "cell_type": "code",
      "source": [
        "def get_weight_matrix(data):\n",
        "\n",
        "    items_weight = data.groupby('item_id')['sales_value'].sum().reset_index()\n",
        "    log_value = items_weight.sales_value.apply(lambda x: 0 if x < 1 else np.log(x))\n",
        "    log_value_sum = log_value.sum()\n",
        "    items_weight['weight'] = log_value.apply(lambda x: x / log_value_sum)\n",
        "\n",
        "    return items_weight"
      ],
      "metadata": {
        "id": "LbQQzRvIbOxs"
      },
      "execution_count": null,
      "outputs": []
    },
    {
      "cell_type": "code",
      "execution_count": null,
      "metadata": {
        "id": "nK_AS3tmC8Y7"
      },
      "outputs": [],
      "source": [
        "%%time\n",
        "items_weight = get_weight_matrix(data)\n",
        "items_weight.head() \n",
        "# your_code"
      ]
    },
    {
      "cell_type": "code",
      "source": [
        "#проверка\n",
        "items_weight.weight.sum()"
      ],
      "metadata": {
        "id": "exZnHR7BbrGR"
      },
      "execution_count": null,
      "outputs": []
    }
  ]
}