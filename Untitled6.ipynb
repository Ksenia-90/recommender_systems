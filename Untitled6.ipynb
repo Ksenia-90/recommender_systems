{
  "nbformat": 4,
  "nbformat_minor": 0,
  "metadata": {
    "colab": {
      "name": "Untitled6.ipynb",
      "provenance": [],
      "authorship_tag": "ABX9TyN+wLDjuTAaL65n6ygsSmvi",
      "include_colab_link": true
    },
    "kernelspec": {
      "name": "python3",
      "display_name": "Python 3"
    },
    "language_info": {
      "name": "python"
    }
  },
  "cells": [
    {
      "cell_type": "markdown",
      "metadata": {
        "id": "view-in-github",
        "colab_type": "text"
      },
      "source": [
        "<a href=\"https://colab.research.google.com/github/Ksenia-90/recommender_systems/blob/lesson_5/Untitled6.ipynb\" target=\"_parent\"><img src=\"https://colab.research.google.com/assets/colab-badge.svg\" alt=\"Open In Colab\"/></a>"
      ]
    },
    {
      "cell_type": "markdown",
      "source": [
        "##Вебинар 5. Ранжирование и Гибридные рекоммендательные системы"
      ],
      "metadata": {
        "id": "shEMjjVMLGMS"
      }
    },
    {
      "cell_type": "code",
      "source": [
        "bpr_model.fit((sparse_user_item > 0) * 1,  # user-item matrix из 0 и 1\n",
        "          sample_weight=coo_matrix(user_item_matrix),\n",
        "          user_features=csr_matrix(user_feat_lightfm.values).tocsr(),\n",
        "          item_features=csr_matrix(item_feat_lightfm.values).tocsr(),\n",
        "          epochs=5, \n",
        "          num_threads=4,\n",
        "          verbose=True) "
      ],
      "metadata": {
        "id": "HH-meM9TJuN5"
      },
      "execution_count": null,
      "outputs": []
    },
    {
      "cell_type": "code",
      "source": [
        "warp_model.fit((sparse_user_item > 0) * 1,  # user-item matrix из 0 и 1\n",
        "          sample_weight=coo_matrix(user_item_matrix),\n",
        "          user_features=csr_matrix(user_feat_lightfm.values).tocsr(),\n",
        "          item_features=csr_matrix(item_feat_lightfm.values).tocsr(),\n",
        "          epochs=15, \n",
        "          num_threads=6,\n",
        "          verbose=True) "
      ],
      "metadata": {
        "id": "8HfDvFSyKvlk"
      },
      "execution_count": null,
      "outputs": []
    },
    {
      "cell_type": "code",
      "source": [
        "import itertools\n",
        "\n",
        "import numpy as np\n",
        "\n",
        "from lightfm import LightFM\n",
        "from lightfm.evaluation import auc_score\n",
        "\n",
        "\n",
        "def hyperparameters():\n",
        "\n",
        "    while True:\n",
        "        yield {\n",
        "            \"no_components\": np.random.randint(16, 64),\n",
        "            \"learning_schedule\": np.random.choice([\"adagrad\", \"adadelta\"]),\n",
        "            \"loss\": np.random.choice([\"bpr\", \"warp\"]),\n",
        "            \"learning_rate\": np.random.exponential(0.05),\n",
        "            \"item_alpha\": np.random.exponential(1e-8),\n",
        "            \"user_alpha\": np.random.exponential(1e-8),\n",
        "            \"max_sampled\": np.random.randint(5, 15),\n",
        "            \"num_epochs\": np.random.randint(5, 50),\n",
        "        }"
      ],
      "metadata": {
        "id": "dt6I8hZIKsZM"
      },
      "execution_count": null,
      "outputs": []
    }
  ]
}