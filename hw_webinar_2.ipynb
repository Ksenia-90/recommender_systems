{
  "cells": [
    {
      "cell_type": "markdown",
      "metadata": {
        "id": "view-in-github",
        "colab_type": "text"
      },
      "source": [
        "<a href=\"https://colab.research.google.com/github/Ksenia-90/recommender_systems/blob/lesson_2/hw_webinar_2.ipynb\" target=\"_parent\"><img src=\"https://colab.research.google.com/assets/colab-badge.svg\" alt=\"Open In Colab\"/></a>"
      ]
    },
    {
      "cell_type": "code",
      "source": [
        "!pip install implicit==0.4.4"
      ],
      "metadata": {
        "id": "O19f7Qt6SqdP",
        "colab": {
          "base_uri": "https://localhost:8080/"
        },
        "outputId": "48fc2e35-247d-4155-898a-d0950f27bf83"
      },
      "execution_count": null,
      "outputs": [
        {
          "output_type": "stream",
          "name": "stdout",
          "text": [
            "Collecting implicit==0.4.4\n",
            "  Downloading implicit-0.4.4.tar.gz (1.1 MB)\n",
            "\u001b[?25l\r\u001b[K     |▎                               | 10 kB 18.1 MB/s eta 0:00:01\r\u001b[K     |▋                               | 20 kB 12.9 MB/s eta 0:00:01\r\u001b[K     |▉                               | 30 kB 8.1 MB/s eta 0:00:01\r\u001b[K     |█▏                              | 40 kB 8.9 MB/s eta 0:00:01\r\u001b[K     |█▌                              | 51 kB 7.9 MB/s eta 0:00:01\r\u001b[K     |█▊                              | 61 kB 9.2 MB/s eta 0:00:01\r\u001b[K     |██                              | 71 kB 8.7 MB/s eta 0:00:01\r\u001b[K     |██▍                             | 81 kB 9.2 MB/s eta 0:00:01\r\u001b[K     |██▋                             | 92 kB 10.1 MB/s eta 0:00:01\r\u001b[K     |███                             | 102 kB 9.7 MB/s eta 0:00:01\r\u001b[K     |███▎                            | 112 kB 9.7 MB/s eta 0:00:01\r\u001b[K     |███▌                            | 122 kB 9.7 MB/s eta 0:00:01\r\u001b[K     |███▉                            | 133 kB 9.7 MB/s eta 0:00:01\r\u001b[K     |████▏                           | 143 kB 9.7 MB/s eta 0:00:01\r\u001b[K     |████▍                           | 153 kB 9.7 MB/s eta 0:00:01\r\u001b[K     |████▊                           | 163 kB 9.7 MB/s eta 0:00:01\r\u001b[K     |█████                           | 174 kB 9.7 MB/s eta 0:00:01\r\u001b[K     |█████▎                          | 184 kB 9.7 MB/s eta 0:00:01\r\u001b[K     |█████▋                          | 194 kB 9.7 MB/s eta 0:00:01\r\u001b[K     |██████                          | 204 kB 9.7 MB/s eta 0:00:01\r\u001b[K     |██████▏                         | 215 kB 9.7 MB/s eta 0:00:01\r\u001b[K     |██████▌                         | 225 kB 9.7 MB/s eta 0:00:01\r\u001b[K     |██████▉                         | 235 kB 9.7 MB/s eta 0:00:01\r\u001b[K     |███████                         | 245 kB 9.7 MB/s eta 0:00:01\r\u001b[K     |███████▍                        | 256 kB 9.7 MB/s eta 0:00:01\r\u001b[K     |███████▊                        | 266 kB 9.7 MB/s eta 0:00:01\r\u001b[K     |████████                        | 276 kB 9.7 MB/s eta 0:00:01\r\u001b[K     |████████▎                       | 286 kB 9.7 MB/s eta 0:00:01\r\u001b[K     |████████▋                       | 296 kB 9.7 MB/s eta 0:00:01\r\u001b[K     |████████▉                       | 307 kB 9.7 MB/s eta 0:00:01\r\u001b[K     |█████████▏                      | 317 kB 9.7 MB/s eta 0:00:01\r\u001b[K     |█████████▌                      | 327 kB 9.7 MB/s eta 0:00:01\r\u001b[K     |█████████▊                      | 337 kB 9.7 MB/s eta 0:00:01\r\u001b[K     |██████████                      | 348 kB 9.7 MB/s eta 0:00:01\r\u001b[K     |██████████▍                     | 358 kB 9.7 MB/s eta 0:00:01\r\u001b[K     |██████████▋                     | 368 kB 9.7 MB/s eta 0:00:01\r\u001b[K     |███████████                     | 378 kB 9.7 MB/s eta 0:00:01\r\u001b[K     |███████████▏                    | 389 kB 9.7 MB/s eta 0:00:01\r\u001b[K     |███████████▌                    | 399 kB 9.7 MB/s eta 0:00:01\r\u001b[K     |███████████▉                    | 409 kB 9.7 MB/s eta 0:00:01\r\u001b[K     |████████████                    | 419 kB 9.7 MB/s eta 0:00:01\r\u001b[K     |████████████▍                   | 430 kB 9.7 MB/s eta 0:00:01\r\u001b[K     |████████████▊                   | 440 kB 9.7 MB/s eta 0:00:01\r\u001b[K     |█████████████                   | 450 kB 9.7 MB/s eta 0:00:01\r\u001b[K     |█████████████▎                  | 460 kB 9.7 MB/s eta 0:00:01\r\u001b[K     |█████████████▋                  | 471 kB 9.7 MB/s eta 0:00:01\r\u001b[K     |█████████████▉                  | 481 kB 9.7 MB/s eta 0:00:01\r\u001b[K     |██████████████▏                 | 491 kB 9.7 MB/s eta 0:00:01\r\u001b[K     |██████████████▌                 | 501 kB 9.7 MB/s eta 0:00:01\r\u001b[K     |██████████████▊                 | 512 kB 9.7 MB/s eta 0:00:01\r\u001b[K     |███████████████                 | 522 kB 9.7 MB/s eta 0:00:01\r\u001b[K     |███████████████▍                | 532 kB 9.7 MB/s eta 0:00:01\r\u001b[K     |███████████████▋                | 542 kB 9.7 MB/s eta 0:00:01\r\u001b[K     |████████████████                | 552 kB 9.7 MB/s eta 0:00:01\r\u001b[K     |████████████████▎               | 563 kB 9.7 MB/s eta 0:00:01\r\u001b[K     |████████████████▌               | 573 kB 9.7 MB/s eta 0:00:01\r\u001b[K     |████████████████▉               | 583 kB 9.7 MB/s eta 0:00:01\r\u001b[K     |█████████████████▏              | 593 kB 9.7 MB/s eta 0:00:01\r\u001b[K     |█████████████████▍              | 604 kB 9.7 MB/s eta 0:00:01\r\u001b[K     |█████████████████▊              | 614 kB 9.7 MB/s eta 0:00:01\r\u001b[K     |██████████████████              | 624 kB 9.7 MB/s eta 0:00:01\r\u001b[K     |██████████████████▎             | 634 kB 9.7 MB/s eta 0:00:01\r\u001b[K     |██████████████████▋             | 645 kB 9.7 MB/s eta 0:00:01\r\u001b[K     |███████████████████             | 655 kB 9.7 MB/s eta 0:00:01\r\u001b[K     |███████████████████▏            | 665 kB 9.7 MB/s eta 0:00:01\r\u001b[K     |███████████████████▌            | 675 kB 9.7 MB/s eta 0:00:01\r\u001b[K     |███████████████████▉            | 686 kB 9.7 MB/s eta 0:00:01\r\u001b[K     |████████████████████            | 696 kB 9.7 MB/s eta 0:00:01\r\u001b[K     |████████████████████▍           | 706 kB 9.7 MB/s eta 0:00:01\r\u001b[K     |████████████████████▊           | 716 kB 9.7 MB/s eta 0:00:01\r\u001b[K     |█████████████████████           | 727 kB 9.7 MB/s eta 0:00:01\r\u001b[K     |█████████████████████▎          | 737 kB 9.7 MB/s eta 0:00:01\r\u001b[K     |█████████████████████▋          | 747 kB 9.7 MB/s eta 0:00:01\r\u001b[K     |█████████████████████▉          | 757 kB 9.7 MB/s eta 0:00:01\r\u001b[K     |██████████████████████▏         | 768 kB 9.7 MB/s eta 0:00:01\r\u001b[K     |██████████████████████▍         | 778 kB 9.7 MB/s eta 0:00:01\r\u001b[K     |██████████████████████▊         | 788 kB 9.7 MB/s eta 0:00:01\r\u001b[K     |███████████████████████         | 798 kB 9.7 MB/s eta 0:00:01\r\u001b[K     |███████████████████████▎        | 808 kB 9.7 MB/s eta 0:00:01\r\u001b[K     |███████████████████████▋        | 819 kB 9.7 MB/s eta 0:00:01\r\u001b[K     |████████████████████████        | 829 kB 9.7 MB/s eta 0:00:01\r\u001b[K     |████████████████████████▏       | 839 kB 9.7 MB/s eta 0:00:01\r\u001b[K     |████████████████████████▌       | 849 kB 9.7 MB/s eta 0:00:01\r\u001b[K     |████████████████████████▉       | 860 kB 9.7 MB/s eta 0:00:01\r\u001b[K     |█████████████████████████       | 870 kB 9.7 MB/s eta 0:00:01\r\u001b[K     |█████████████████████████▍      | 880 kB 9.7 MB/s eta 0:00:01\r\u001b[K     |█████████████████████████▊      | 890 kB 9.7 MB/s eta 0:00:01\r\u001b[K     |██████████████████████████      | 901 kB 9.7 MB/s eta 0:00:01\r\u001b[K     |██████████████████████████▎     | 911 kB 9.7 MB/s eta 0:00:01\r\u001b[K     |██████████████████████████▋     | 921 kB 9.7 MB/s eta 0:00:01\r\u001b[K     |██████████████████████████▉     | 931 kB 9.7 MB/s eta 0:00:01\r\u001b[K     |███████████████████████████▏    | 942 kB 9.7 MB/s eta 0:00:01\r\u001b[K     |███████████████████████████▌    | 952 kB 9.7 MB/s eta 0:00:01\r\u001b[K     |███████████████████████████▊    | 962 kB 9.7 MB/s eta 0:00:01\r\u001b[K     |████████████████████████████    | 972 kB 9.7 MB/s eta 0:00:01\r\u001b[K     |████████████████████████████▍   | 983 kB 9.7 MB/s eta 0:00:01\r\u001b[K     |████████████████████████████▋   | 993 kB 9.7 MB/s eta 0:00:01\r\u001b[K     |█████████████████████████████   | 1.0 MB 9.7 MB/s eta 0:00:01\r\u001b[K     |█████████████████████████████▎  | 1.0 MB 9.7 MB/s eta 0:00:01\r\u001b[K     |█████████████████████████████▌  | 1.0 MB 9.7 MB/s eta 0:00:01\r\u001b[K     |█████████████████████████████▉  | 1.0 MB 9.7 MB/s eta 0:00:01\r\u001b[K     |██████████████████████████████▏ | 1.0 MB 9.7 MB/s eta 0:00:01\r\u001b[K     |██████████████████████████████▍ | 1.1 MB 9.7 MB/s eta 0:00:01\r\u001b[K     |██████████████████████████████▊ | 1.1 MB 9.7 MB/s eta 0:00:01\r\u001b[K     |███████████████████████████████ | 1.1 MB 9.7 MB/s eta 0:00:01\r\u001b[K     |███████████████████████████████▎| 1.1 MB 9.7 MB/s eta 0:00:01\r\u001b[K     |███████████████████████████████▋| 1.1 MB 9.7 MB/s eta 0:00:01\r\u001b[K     |████████████████████████████████| 1.1 MB 9.7 MB/s eta 0:00:01\r\u001b[K     |████████████████████████████████| 1.1 MB 9.7 MB/s \n",
            "\u001b[?25hRequirement already satisfied: numpy in /usr/local/lib/python3.7/dist-packages (from implicit==0.4.4) (1.21.5)\n",
            "Requirement already satisfied: scipy>=0.16 in /usr/local/lib/python3.7/dist-packages (from implicit==0.4.4) (1.4.1)\n",
            "Requirement already satisfied: tqdm>=4.27 in /usr/local/lib/python3.7/dist-packages (from implicit==0.4.4) (4.64.0)\n",
            "Building wheels for collected packages: implicit\n",
            "  Building wheel for implicit (setup.py) ... \u001b[?25l\u001b[?25hdone\n",
            "  Created wheel for implicit: filename=implicit-0.4.4-cp37-cp37m-linux_x86_64.whl size=3413788 sha256=4e6a37998a16452b909ffe70fd69901159175cd512a3e651e3f708d604d243bc\n",
            "  Stored in directory: /root/.cache/pip/wheels/44/7e/7d/a17324ea207cfbe76aca878b5b8ca0aa932cf55d163329be37\n",
            "Successfully built implicit\n",
            "Installing collected packages: implicit\n",
            "Successfully installed implicit-0.4.4\n"
          ]
        }
      ]
    },
    {
      "cell_type": "code",
      "execution_count": null,
      "metadata": {
        "id": "RiIREx72S9W_"
      },
      "outputs": [],
      "source": [
        "import pandas as pd\n",
        "import numpy as np\n",
        "import matplotlib.pyplot as plt\n",
        "%matplotlib inline\n",
        "\n",
        "# Для работы с матрицами\n",
        "from scipy.sparse import csr_matrix, coo_matrix\n",
        "\n",
        "# Детерминированные алгоритмы\n",
        "from implicit.nearest_neighbours import ItemItemRecommender, CosineRecommender, TFIDFRecommender, BM25Recommender\n",
        "\n",
        "# Метрики\n",
        "from implicit.evaluation import train_test_split\n",
        "from implicit.evaluation import precision_at_k, mean_average_precision_at_k, AUC_at_k, ndcg_at_k"
      ]
    },
    {
      "cell_type": "code",
      "source": [
        "from google.colab import drive\n",
        "drive.mount('/content/drive')"
      ],
      "metadata": {
        "id": "qCDs4-N9zQ8p"
      },
      "execution_count": null,
      "outputs": []
    },
    {
      "cell_type": "code",
      "source": [
        "data  = pd.read_csv(\"/drive/MyDrive/ColabNotebooks/retail_train.csv\")\n",
        "data.head(2)"
      ],
      "metadata": {
        "id": "3fjs1ek_45V-",
        "colab": {
          "base_uri": "https://localhost:8080/",
          "height": 323
        },
        "outputId": "a7a1edba-519f-44e0-bef8-74ef01803ad4"
      },
      "execution_count": null,
      "outputs": [
        {
          "output_type": "error",
          "ename": "FileNotFoundError",
          "evalue": "ignored",
          "traceback": [
            "\u001b[0;31m---------------------------------------------------------------------------\u001b[0m",
            "\u001b[0;31mFileNotFoundError\u001b[0m                         Traceback (most recent call last)",
            "\u001b[0;32m<ipython-input-6-d41778a4deaf>\u001b[0m in \u001b[0;36m<module>\u001b[0;34m()\u001b[0m\n\u001b[0;32m----> 1\u001b[0;31m \u001b[0mdata\u001b[0m  \u001b[0;34m=\u001b[0m \u001b[0mpd\u001b[0m\u001b[0;34m.\u001b[0m\u001b[0mread_csv\u001b[0m\u001b[0;34m(\u001b[0m\u001b[0;34m\"/content/retail_train.csv\"\u001b[0m\u001b[0;34m)\u001b[0m\u001b[0;34m\u001b[0m\u001b[0;34m\u001b[0m\u001b[0m\n\u001b[0m\u001b[1;32m      2\u001b[0m \u001b[0mdata\u001b[0m\u001b[0;34m.\u001b[0m\u001b[0mhead\u001b[0m\u001b[0;34m(\u001b[0m\u001b[0;36m2\u001b[0m\u001b[0;34m)\u001b[0m\u001b[0;34m\u001b[0m\u001b[0;34m\u001b[0m\u001b[0m\n",
            "\u001b[0;32m/usr/local/lib/python3.7/dist-packages/pandas/util/_decorators.py\u001b[0m in \u001b[0;36mwrapper\u001b[0;34m(*args, **kwargs)\u001b[0m\n\u001b[1;32m    309\u001b[0m                     \u001b[0mstacklevel\u001b[0m\u001b[0;34m=\u001b[0m\u001b[0mstacklevel\u001b[0m\u001b[0;34m,\u001b[0m\u001b[0;34m\u001b[0m\u001b[0;34m\u001b[0m\u001b[0m\n\u001b[1;32m    310\u001b[0m                 )\n\u001b[0;32m--> 311\u001b[0;31m             \u001b[0;32mreturn\u001b[0m \u001b[0mfunc\u001b[0m\u001b[0;34m(\u001b[0m\u001b[0;34m*\u001b[0m\u001b[0margs\u001b[0m\u001b[0;34m,\u001b[0m \u001b[0;34m**\u001b[0m\u001b[0mkwargs\u001b[0m\u001b[0;34m)\u001b[0m\u001b[0;34m\u001b[0m\u001b[0;34m\u001b[0m\u001b[0m\n\u001b[0m\u001b[1;32m    312\u001b[0m \u001b[0;34m\u001b[0m\u001b[0m\n\u001b[1;32m    313\u001b[0m         \u001b[0;32mreturn\u001b[0m \u001b[0mwrapper\u001b[0m\u001b[0;34m\u001b[0m\u001b[0;34m\u001b[0m\u001b[0m\n",
            "\u001b[0;32m/usr/local/lib/python3.7/dist-packages/pandas/io/parsers/readers.py\u001b[0m in \u001b[0;36mread_csv\u001b[0;34m(filepath_or_buffer, sep, delimiter, header, names, index_col, usecols, squeeze, prefix, mangle_dupe_cols, dtype, engine, converters, true_values, false_values, skipinitialspace, skiprows, skipfooter, nrows, na_values, keep_default_na, na_filter, verbose, skip_blank_lines, parse_dates, infer_datetime_format, keep_date_col, date_parser, dayfirst, cache_dates, iterator, chunksize, compression, thousands, decimal, lineterminator, quotechar, quoting, doublequote, escapechar, comment, encoding, encoding_errors, dialect, error_bad_lines, warn_bad_lines, on_bad_lines, delim_whitespace, low_memory, memory_map, float_precision, storage_options)\u001b[0m\n\u001b[1;32m    584\u001b[0m     \u001b[0mkwds\u001b[0m\u001b[0;34m.\u001b[0m\u001b[0mupdate\u001b[0m\u001b[0;34m(\u001b[0m\u001b[0mkwds_defaults\u001b[0m\u001b[0;34m)\u001b[0m\u001b[0;34m\u001b[0m\u001b[0;34m\u001b[0m\u001b[0m\n\u001b[1;32m    585\u001b[0m \u001b[0;34m\u001b[0m\u001b[0m\n\u001b[0;32m--> 586\u001b[0;31m     \u001b[0;32mreturn\u001b[0m \u001b[0m_read\u001b[0m\u001b[0;34m(\u001b[0m\u001b[0mfilepath_or_buffer\u001b[0m\u001b[0;34m,\u001b[0m \u001b[0mkwds\u001b[0m\u001b[0;34m)\u001b[0m\u001b[0;34m\u001b[0m\u001b[0;34m\u001b[0m\u001b[0m\n\u001b[0m\u001b[1;32m    587\u001b[0m \u001b[0;34m\u001b[0m\u001b[0m\n\u001b[1;32m    588\u001b[0m \u001b[0;34m\u001b[0m\u001b[0m\n",
            "\u001b[0;32m/usr/local/lib/python3.7/dist-packages/pandas/io/parsers/readers.py\u001b[0m in \u001b[0;36m_read\u001b[0;34m(filepath_or_buffer, kwds)\u001b[0m\n\u001b[1;32m    480\u001b[0m \u001b[0;34m\u001b[0m\u001b[0m\n\u001b[1;32m    481\u001b[0m     \u001b[0;31m# Create the parser.\u001b[0m\u001b[0;34m\u001b[0m\u001b[0;34m\u001b[0m\u001b[0;34m\u001b[0m\u001b[0m\n\u001b[0;32m--> 482\u001b[0;31m     \u001b[0mparser\u001b[0m \u001b[0;34m=\u001b[0m \u001b[0mTextFileReader\u001b[0m\u001b[0;34m(\u001b[0m\u001b[0mfilepath_or_buffer\u001b[0m\u001b[0;34m,\u001b[0m \u001b[0;34m**\u001b[0m\u001b[0mkwds\u001b[0m\u001b[0;34m)\u001b[0m\u001b[0;34m\u001b[0m\u001b[0;34m\u001b[0m\u001b[0m\n\u001b[0m\u001b[1;32m    483\u001b[0m \u001b[0;34m\u001b[0m\u001b[0m\n\u001b[1;32m    484\u001b[0m     \u001b[0;32mif\u001b[0m \u001b[0mchunksize\u001b[0m \u001b[0;32mor\u001b[0m \u001b[0miterator\u001b[0m\u001b[0;34m:\u001b[0m\u001b[0;34m\u001b[0m\u001b[0;34m\u001b[0m\u001b[0m\n",
            "\u001b[0;32m/usr/local/lib/python3.7/dist-packages/pandas/io/parsers/readers.py\u001b[0m in \u001b[0;36m__init__\u001b[0;34m(self, f, engine, **kwds)\u001b[0m\n\u001b[1;32m    809\u001b[0m             \u001b[0mself\u001b[0m\u001b[0;34m.\u001b[0m\u001b[0moptions\u001b[0m\u001b[0;34m[\u001b[0m\u001b[0;34m\"has_index_names\"\u001b[0m\u001b[0;34m]\u001b[0m \u001b[0;34m=\u001b[0m \u001b[0mkwds\u001b[0m\u001b[0;34m[\u001b[0m\u001b[0;34m\"has_index_names\"\u001b[0m\u001b[0;34m]\u001b[0m\u001b[0;34m\u001b[0m\u001b[0;34m\u001b[0m\u001b[0m\n\u001b[1;32m    810\u001b[0m \u001b[0;34m\u001b[0m\u001b[0m\n\u001b[0;32m--> 811\u001b[0;31m         \u001b[0mself\u001b[0m\u001b[0;34m.\u001b[0m\u001b[0m_engine\u001b[0m \u001b[0;34m=\u001b[0m \u001b[0mself\u001b[0m\u001b[0;34m.\u001b[0m\u001b[0m_make_engine\u001b[0m\u001b[0;34m(\u001b[0m\u001b[0mself\u001b[0m\u001b[0;34m.\u001b[0m\u001b[0mengine\u001b[0m\u001b[0;34m)\u001b[0m\u001b[0;34m\u001b[0m\u001b[0;34m\u001b[0m\u001b[0m\n\u001b[0m\u001b[1;32m    812\u001b[0m \u001b[0;34m\u001b[0m\u001b[0m\n\u001b[1;32m    813\u001b[0m     \u001b[0;32mdef\u001b[0m \u001b[0mclose\u001b[0m\u001b[0;34m(\u001b[0m\u001b[0mself\u001b[0m\u001b[0;34m)\u001b[0m\u001b[0;34m:\u001b[0m\u001b[0;34m\u001b[0m\u001b[0;34m\u001b[0m\u001b[0m\n",
            "\u001b[0;32m/usr/local/lib/python3.7/dist-packages/pandas/io/parsers/readers.py\u001b[0m in \u001b[0;36m_make_engine\u001b[0;34m(self, engine)\u001b[0m\n\u001b[1;32m   1038\u001b[0m             )\n\u001b[1;32m   1039\u001b[0m         \u001b[0;31m# error: Too many arguments for \"ParserBase\"\u001b[0m\u001b[0;34m\u001b[0m\u001b[0;34m\u001b[0m\u001b[0;34m\u001b[0m\u001b[0m\n\u001b[0;32m-> 1040\u001b[0;31m         \u001b[0;32mreturn\u001b[0m \u001b[0mmapping\u001b[0m\u001b[0;34m[\u001b[0m\u001b[0mengine\u001b[0m\u001b[0;34m]\u001b[0m\u001b[0;34m(\u001b[0m\u001b[0mself\u001b[0m\u001b[0;34m.\u001b[0m\u001b[0mf\u001b[0m\u001b[0;34m,\u001b[0m \u001b[0;34m**\u001b[0m\u001b[0mself\u001b[0m\u001b[0;34m.\u001b[0m\u001b[0moptions\u001b[0m\u001b[0;34m)\u001b[0m  \u001b[0;31m# type: ignore[call-arg]\u001b[0m\u001b[0;34m\u001b[0m\u001b[0;34m\u001b[0m\u001b[0m\n\u001b[0m\u001b[1;32m   1041\u001b[0m \u001b[0;34m\u001b[0m\u001b[0m\n\u001b[1;32m   1042\u001b[0m     \u001b[0;32mdef\u001b[0m \u001b[0m_failover_to_python\u001b[0m\u001b[0;34m(\u001b[0m\u001b[0mself\u001b[0m\u001b[0;34m)\u001b[0m\u001b[0;34m:\u001b[0m\u001b[0;34m\u001b[0m\u001b[0;34m\u001b[0m\u001b[0m\n",
            "\u001b[0;32m/usr/local/lib/python3.7/dist-packages/pandas/io/parsers/c_parser_wrapper.py\u001b[0m in \u001b[0;36m__init__\u001b[0;34m(self, src, **kwds)\u001b[0m\n\u001b[1;32m     49\u001b[0m \u001b[0;34m\u001b[0m\u001b[0m\n\u001b[1;32m     50\u001b[0m         \u001b[0;31m# open handles\u001b[0m\u001b[0;34m\u001b[0m\u001b[0;34m\u001b[0m\u001b[0;34m\u001b[0m\u001b[0m\n\u001b[0;32m---> 51\u001b[0;31m         \u001b[0mself\u001b[0m\u001b[0;34m.\u001b[0m\u001b[0m_open_handles\u001b[0m\u001b[0;34m(\u001b[0m\u001b[0msrc\u001b[0m\u001b[0;34m,\u001b[0m \u001b[0mkwds\u001b[0m\u001b[0;34m)\u001b[0m\u001b[0;34m\u001b[0m\u001b[0;34m\u001b[0m\u001b[0m\n\u001b[0m\u001b[1;32m     52\u001b[0m         \u001b[0;32massert\u001b[0m \u001b[0mself\u001b[0m\u001b[0;34m.\u001b[0m\u001b[0mhandles\u001b[0m \u001b[0;32mis\u001b[0m \u001b[0;32mnot\u001b[0m \u001b[0;32mNone\u001b[0m\u001b[0;34m\u001b[0m\u001b[0;34m\u001b[0m\u001b[0m\n\u001b[1;32m     53\u001b[0m \u001b[0;34m\u001b[0m\u001b[0m\n",
            "\u001b[0;32m/usr/local/lib/python3.7/dist-packages/pandas/io/parsers/base_parser.py\u001b[0m in \u001b[0;36m_open_handles\u001b[0;34m(self, src, kwds)\u001b[0m\n\u001b[1;32m    227\u001b[0m             \u001b[0mmemory_map\u001b[0m\u001b[0;34m=\u001b[0m\u001b[0mkwds\u001b[0m\u001b[0;34m.\u001b[0m\u001b[0mget\u001b[0m\u001b[0;34m(\u001b[0m\u001b[0;34m\"memory_map\"\u001b[0m\u001b[0;34m,\u001b[0m \u001b[0;32mFalse\u001b[0m\u001b[0;34m)\u001b[0m\u001b[0;34m,\u001b[0m\u001b[0;34m\u001b[0m\u001b[0;34m\u001b[0m\u001b[0m\n\u001b[1;32m    228\u001b[0m             \u001b[0mstorage_options\u001b[0m\u001b[0;34m=\u001b[0m\u001b[0mkwds\u001b[0m\u001b[0;34m.\u001b[0m\u001b[0mget\u001b[0m\u001b[0;34m(\u001b[0m\u001b[0;34m\"storage_options\"\u001b[0m\u001b[0;34m,\u001b[0m \u001b[0;32mNone\u001b[0m\u001b[0;34m)\u001b[0m\u001b[0;34m,\u001b[0m\u001b[0;34m\u001b[0m\u001b[0;34m\u001b[0m\u001b[0m\n\u001b[0;32m--> 229\u001b[0;31m             \u001b[0merrors\u001b[0m\u001b[0;34m=\u001b[0m\u001b[0mkwds\u001b[0m\u001b[0;34m.\u001b[0m\u001b[0mget\u001b[0m\u001b[0;34m(\u001b[0m\u001b[0;34m\"encoding_errors\"\u001b[0m\u001b[0;34m,\u001b[0m \u001b[0;34m\"strict\"\u001b[0m\u001b[0;34m)\u001b[0m\u001b[0;34m,\u001b[0m\u001b[0;34m\u001b[0m\u001b[0;34m\u001b[0m\u001b[0m\n\u001b[0m\u001b[1;32m    230\u001b[0m         )\n\u001b[1;32m    231\u001b[0m \u001b[0;34m\u001b[0m\u001b[0m\n",
            "\u001b[0;32m/usr/local/lib/python3.7/dist-packages/pandas/io/common.py\u001b[0m in \u001b[0;36mget_handle\u001b[0;34m(path_or_buf, mode, encoding, compression, memory_map, is_text, errors, storage_options)\u001b[0m\n\u001b[1;32m    705\u001b[0m                 \u001b[0mencoding\u001b[0m\u001b[0;34m=\u001b[0m\u001b[0mioargs\u001b[0m\u001b[0;34m.\u001b[0m\u001b[0mencoding\u001b[0m\u001b[0;34m,\u001b[0m\u001b[0;34m\u001b[0m\u001b[0;34m\u001b[0m\u001b[0m\n\u001b[1;32m    706\u001b[0m                 \u001b[0merrors\u001b[0m\u001b[0;34m=\u001b[0m\u001b[0merrors\u001b[0m\u001b[0;34m,\u001b[0m\u001b[0;34m\u001b[0m\u001b[0;34m\u001b[0m\u001b[0m\n\u001b[0;32m--> 707\u001b[0;31m                 \u001b[0mnewline\u001b[0m\u001b[0;34m=\u001b[0m\u001b[0;34m\"\"\u001b[0m\u001b[0;34m,\u001b[0m\u001b[0;34m\u001b[0m\u001b[0;34m\u001b[0m\u001b[0m\n\u001b[0m\u001b[1;32m    708\u001b[0m             )\n\u001b[1;32m    709\u001b[0m         \u001b[0;32melse\u001b[0m\u001b[0;34m:\u001b[0m\u001b[0;34m\u001b[0m\u001b[0;34m\u001b[0m\u001b[0m\n",
            "\u001b[0;31mFileNotFoundError\u001b[0m: [Errno 2] No such file or directory: '/content/retail_train.csv'"
          ]
        }
      ]
    },
    {
      "cell_type": "code",
      "execution_count": null,
      "metadata": {
        "id": "9qFkcgyrC8Yt",
        "outputId": "24a33bf1-942a-4b18-c54a-a7500c8f8712"
      },
      "outputs": [
        {
          "data": {
            "text/html": [
              "<div>\n",
              "<style scoped>\n",
              "    .dataframe tbody tr th:only-of-type {\n",
              "        vertical-align: middle;\n",
              "    }\n",
              "\n",
              "    .dataframe tbody tr th {\n",
              "        vertical-align: top;\n",
              "    }\n",
              "\n",
              "    .dataframe thead th {\n",
              "        text-align: right;\n",
              "    }\n",
              "</style>\n",
              "<table border=\"1\" class=\"dataframe\">\n",
              "  <thead>\n",
              "    <tr style=\"text-align: right;\">\n",
              "      <th></th>\n",
              "      <th>user_id</th>\n",
              "      <th>basket_id</th>\n",
              "      <th>day</th>\n",
              "      <th>item_id</th>\n",
              "      <th>quantity</th>\n",
              "      <th>sales_value</th>\n",
              "      <th>store_id</th>\n",
              "      <th>retail_disc</th>\n",
              "      <th>trans_time</th>\n",
              "      <th>week_no</th>\n",
              "      <th>coupon_disc</th>\n",
              "      <th>coupon_match_disc</th>\n",
              "    </tr>\n",
              "  </thead>\n",
              "  <tbody>\n",
              "    <tr>\n",
              "      <th>0</th>\n",
              "      <td>2375</td>\n",
              "      <td>26984851472</td>\n",
              "      <td>1</td>\n",
              "      <td>1004906</td>\n",
              "      <td>1</td>\n",
              "      <td>1.39</td>\n",
              "      <td>364</td>\n",
              "      <td>-0.6</td>\n",
              "      <td>1631</td>\n",
              "      <td>1</td>\n",
              "      <td>0.0</td>\n",
              "      <td>0.0</td>\n",
              "    </tr>\n",
              "    <tr>\n",
              "      <th>1</th>\n",
              "      <td>2375</td>\n",
              "      <td>26984851472</td>\n",
              "      <td>1</td>\n",
              "      <td>1033142</td>\n",
              "      <td>1</td>\n",
              "      <td>0.82</td>\n",
              "      <td>364</td>\n",
              "      <td>0.0</td>\n",
              "      <td>1631</td>\n",
              "      <td>1</td>\n",
              "      <td>0.0</td>\n",
              "      <td>0.0</td>\n",
              "    </tr>\n",
              "  </tbody>\n",
              "</table>\n",
              "</div>"
            ],
            "text/plain": [
              "   user_id    basket_id  day  item_id  quantity  sales_value  store_id  \\\n",
              "0     2375  26984851472    1  1004906         1         1.39       364   \n",
              "1     2375  26984851472    1  1033142         1         0.82       364   \n",
              "\n",
              "   retail_disc  trans_time  week_no  coupon_disc  coupon_match_disc  \n",
              "0         -0.6        1631        1          0.0                0.0  \n",
              "1          0.0        1631        1          0.0                0.0  "
            ]
          },
          "execution_count": 3,
          "metadata": {
            "tags": []
          },
          "output_type": "execute_result"
        }
      ],
      "source": [
        "#data = pd.read_csv('data/retail_train.csv')\n",
        "#data.head(2)"
      ]
    },
    {
      "cell_type": "code",
      "execution_count": null,
      "metadata": {
        "id": "epcBZlgJC8Y0"
      },
      "outputs": [],
      "source": [
        "test_size_weeks = 3\n",
        "\n",
        "data_train = data[data['week_no'] < data['week_no'].max() - test_size_weeks]\n",
        "data_test = data[data['week_no'] >= data['week_no'].max() - test_size_weeks]"
      ]
    },
    {
      "cell_type": "markdown",
      "metadata": {
        "id": "zlUUzLFeC8Y4"
      },
      "source": [
        "### Задание 1. Weighted Random Recommendation\n",
        "\n",
        "Напишите код для случайных рекоммендаций, в которых вероятность рекомендовать товар прямо пропорциональна логарифму продаж\n",
        "- Можно сэмплировать товары случайно, но пропорционально какому-либо весу\n",
        "- Например, прямопропорционально популярности. Вес = log(sales_sum товара)"
      ]
    },
    {
      "cell_type": "code",
      "execution_count": null,
      "metadata": {
        "id": "brMuCHolC8Y4"
      },
      "outputs": [],
      "source": [
        "def weighted_random_recommendation(items_weights, n=5):\n",
        "    \"\"\"Случайные рекоммендации\n",
        "    \n",
        "    Input\n",
        "    -----\n",
        "    items_weights: pd.DataFrame\n",
        "        Датафрейм со столбцами item_id, weight. Сумма weight по всем товарам = 1\n",
        "    \"\"\"\n",
        "    \n",
        "    # Подсказка: необходимо модифицировать функцию random_recommendation()\n",
        "    # your_code\n",
        "    \n",
        "    recs = np.random.choice(items_weights.item_id,\n",
        "                            p=items_weights.weight, \n",
        "                            size=n,\n",
        "                            replace=False)\n",
        "    return recs.tolist()"
      ]
    },
    {
      "cell_type": "code",
      "source": [
        "def get_weight_matrix(data):\n",
        "\n",
        "    items_weight = data.groupby('item_id')['sales_value'].sum().reset_index()\n",
        "    log_value = items_weight.sales_value.apply(lambda x: 0 if x < 1 else np.log(x))\n",
        "    log_value_sum = log_value.sum()\n",
        "    items_weight['weight'] = log_value.apply(lambda x: x / log_value_sum)\n",
        "\n",
        "    return items_weight"
      ],
      "metadata": {
        "id": "LbQQzRvIbOxs"
      },
      "execution_count": null,
      "outputs": []
    },
    {
      "cell_type": "code",
      "execution_count": null,
      "metadata": {
        "id": "nK_AS3tmC8Y7"
      },
      "outputs": [],
      "source": [
        "%%time\n",
        "items_weight = get_weight_matrix(data)\n",
        "items_weight.head() \n",
        "# your_code"
      ]
    },
    {
      "cell_type": "code",
      "source": [
        "#проверка\n",
        "items_weight.weight.sum()"
      ],
      "metadata": {
        "id": "exZnHR7BbrGR"
      },
      "execution_count": null,
      "outputs": []
    },
    {
      "cell_type": "code",
      "source": [
        "from google.colab import drive\n",
        "drive.mount('/content/drive')"
      ],
      "metadata": {
        "colab": {
          "base_uri": "https://localhost:8080/"
        },
        "id": "elRTY89hzHtM",
        "outputId": "0b4e2dcc-83fb-42b5-f507-8d2bf676cb8e"
      },
      "execution_count": null,
      "outputs": [
        {
          "output_type": "stream",
          "name": "stdout",
          "text": [
            "Mounted at /content/drive\n"
          ]
        }
      ]
    },
    {
      "cell_type": "markdown",
      "metadata": {
        "id": "igDU0j1cC8ZH"
      },
      "source": [
        "## Задание 2. Улучшение бейзлайнов и ItemItem\n",
        "\n",
        "- Попробуйте улучшить бейзлайны, считая случаный на топ-5000 товаров\n",
        "- Попробуйте улучшить разные варианты ItemItemRecommender, выбирая число соседей $K$."
      ]
    },
    {
      "cell_type": "code",
      "execution_count": null,
      "metadata": {
        "id": "zYBR3cMPC8ZH"
      },
      "outputs": [],
      "source": [
        "# your_code #Копируем часть данных с вебинара"
      ]
    },
    {
      "cell_type": "markdown",
      "metadata": {
        "id": "wmHsS_zl3zQE"
      },
      "source": [
        "### 1.1 Random recommendation"
      ]
    },
    {
      "cell_type": "code",
      "execution_count": null,
      "metadata": {
        "id": "H3a3rBEt3zQF"
      },
      "outputs": [],
      "source": [
        "def random_recommendation(items, n=5):\n",
        "    \"\"\"Случайные рекоммендации\"\"\"\n",
        "    \n",
        "    items = np.array(items)\n",
        "    recs = np.random.choice(items, size=n, replace=False)\n",
        "    \n",
        "    return recs.tolist()"
      ]
    },
    {
      "cell_type": "code",
      "execution_count": null,
      "metadata": {
        "id": "-V2nF7Qm3zQF",
        "outputId": "d12b493a-c0ae-47e5-c5ad-fdaec9548c9f"
      },
      "outputs": [
        {
          "name": "stdout",
          "output_type": "stream",
          "text": [
            "CPU times: user 3.52 s, sys: 42.4 ms, total: 3.56 s\n",
            "Wall time: 3.62 s\n"
          ]
        },
        {
          "data": {
            "text/html": [
              "<div>\n",
              "<style scoped>\n",
              "    .dataframe tbody tr th:only-of-type {\n",
              "        vertical-align: middle;\n",
              "    }\n",
              "\n",
              "    .dataframe tbody tr th {\n",
              "        vertical-align: top;\n",
              "    }\n",
              "\n",
              "    .dataframe thead th {\n",
              "        text-align: right;\n",
              "    }\n",
              "</style>\n",
              "<table border=\"1\" class=\"dataframe\">\n",
              "  <thead>\n",
              "    <tr style=\"text-align: right;\">\n",
              "      <th></th>\n",
              "      <th>user_id</th>\n",
              "      <th>actual</th>\n",
              "      <th>random_recommendation</th>\n",
              "    </tr>\n",
              "  </thead>\n",
              "  <tbody>\n",
              "    <tr>\n",
              "      <th>0</th>\n",
              "      <td>1</td>\n",
              "      <td>[821867, 834484, 856942, 865456, 889248, 90795...</td>\n",
              "      <td>[8017789, 8181451, 941145, 6535995, 1072626]</td>\n",
              "    </tr>\n",
              "    <tr>\n",
              "      <th>1</th>\n",
              "      <td>3</td>\n",
              "      <td>[835476, 851057, 872021, 878302, 879948, 90963...</td>\n",
              "      <td>[15599615, 443416, 8019217, 6040395, 766645]</td>\n",
              "    </tr>\n",
              "  </tbody>\n",
              "</table>\n",
              "</div>"
            ],
            "text/plain": [
              "   user_id                                             actual  \\\n",
              "0        1  [821867, 834484, 856942, 865456, 889248, 90795...   \n",
              "1        3  [835476, 851057, 872021, 878302, 879948, 90963...   \n",
              "\n",
              "                          random_recommendation  \n",
              "0  [8017789, 8181451, 941145, 6535995, 1072626]  \n",
              "1  [15599615, 443416, 8019217, 6040395, 766645]  "
            ]
          },
          "execution_count": 13,
          "metadata": {},
          "output_type": "execute_result"
        }
      ],
      "source": [
        "%%time\n",
        "\n",
        "items = data_train.item_id.unique()\n",
        "result['random_recommendation'] = result['user_id'].apply(lambda x: random_recommendation(items, n=5))\n",
        "result.head(2)"
      ]
    },
    {
      "cell_type": "markdown",
      "metadata": {
        "id": "fx-OtmEW3zQF"
      },
      "source": [
        "### 1.2 Popularity-based recommendation"
      ]
    },
    {
      "cell_type": "code",
      "execution_count": null,
      "metadata": {
        "id": "fpplELgI3zQF"
      },
      "outputs": [],
      "source": [
        "def popularity_recommendation(data, n=5):\n",
        "    \"\"\"Топ-n популярных товаров\"\"\"\n",
        "    \n",
        "    popular = data.groupby('item_id')['sales_value'].sum().reset_index()\n",
        "    popular.sort_values('sales_value', ascending=False, inplace=True)\n",
        "    \n",
        "    recs = popular.head(n).item_id\n",
        "    \n",
        "    return recs.tolist()"
      ]
    },
    {
      "cell_type": "code",
      "execution_count": null,
      "metadata": {
        "id": "ZFk_DgI53zQG",
        "outputId": "d9102199-913a-4538-887b-ce8c71d90d29"
      },
      "outputs": [
        {
          "name": "stdout",
          "output_type": "stream",
          "text": [
            "CPU times: user 140 ms, sys: 24.9 ms, total: 165 ms\n",
            "Wall time: 175 ms\n"
          ]
        },
        {
          "data": {
            "text/html": [
              "<div>\n",
              "<style scoped>\n",
              "    .dataframe tbody tr th:only-of-type {\n",
              "        vertical-align: middle;\n",
              "    }\n",
              "\n",
              "    .dataframe tbody tr th {\n",
              "        vertical-align: top;\n",
              "    }\n",
              "\n",
              "    .dataframe thead th {\n",
              "        text-align: right;\n",
              "    }\n",
              "</style>\n",
              "<table border=\"1\" class=\"dataframe\">\n",
              "  <thead>\n",
              "    <tr style=\"text-align: right;\">\n",
              "      <th></th>\n",
              "      <th>user_id</th>\n",
              "      <th>actual</th>\n",
              "      <th>random_recommendation</th>\n",
              "      <th>popular_recommendation</th>\n",
              "    </tr>\n",
              "  </thead>\n",
              "  <tbody>\n",
              "    <tr>\n",
              "      <th>0</th>\n",
              "      <td>1</td>\n",
              "      <td>[821867, 834484, 856942, 865456, 889248, 90795...</td>\n",
              "      <td>[8017789, 8181451, 941145, 6535995, 1072626]</td>\n",
              "      <td>[6534178, 6533889, 1029743, 6534166, 1082185]</td>\n",
              "    </tr>\n",
              "    <tr>\n",
              "      <th>1</th>\n",
              "      <td>3</td>\n",
              "      <td>[835476, 851057, 872021, 878302, 879948, 90963...</td>\n",
              "      <td>[15599615, 443416, 8019217, 6040395, 766645]</td>\n",
              "      <td>[6534178, 6533889, 1029743, 6534166, 1082185]</td>\n",
              "    </tr>\n",
              "  </tbody>\n",
              "</table>\n",
              "</div>"
            ],
            "text/plain": [
              "   user_id                                             actual  \\\n",
              "0        1  [821867, 834484, 856942, 865456, 889248, 90795...   \n",
              "1        3  [835476, 851057, 872021, 878302, 879948, 90963...   \n",
              "\n",
              "                          random_recommendation  \\\n",
              "0  [8017789, 8181451, 941145, 6535995, 1072626]   \n",
              "1  [15599615, 443416, 8019217, 6040395, 766645]   \n",
              "\n",
              "                          popular_recommendation  \n",
              "0  [6534178, 6533889, 1029743, 6534166, 1082185]  \n",
              "1  [6534178, 6533889, 1029743, 6534166, 1082185]  "
            ]
          },
          "execution_count": 15,
          "metadata": {},
          "output_type": "execute_result"
        }
      ],
      "source": [
        "%%time\n",
        "\n",
        "# Можно так делать, так как рекомендация не зависит от юзера\n",
        "popular_recs = popularity_recommendation(data_train, n=5)\n",
        "\n",
        "result['popular_recommendation'] = result['user_id'].apply(lambda x: popular_recs)\n",
        "result.head(2)"
      ]
    },
    {
      "cell_type": "markdown",
      "metadata": {
        "id": "lQnShR7N3zQH"
      },
      "source": [
        "## 2.1 Item-Item Recommender / ItemKNN"
      ]
    },
    {
      "cell_type": "code",
      "execution_count": null,
      "metadata": {
        "id": "k69HJToB3zQI",
        "outputId": "8ed9956f-6ecc-4742-f750-850145fdd2b0"
      },
      "outputs": [
        {
          "data": {
            "text/html": [
              "<div>\n",
              "<style scoped>\n",
              "    .dataframe tbody tr th:only-of-type {\n",
              "        vertical-align: middle;\n",
              "    }\n",
              "\n",
              "    .dataframe tbody tr th {\n",
              "        vertical-align: top;\n",
              "    }\n",
              "\n",
              "    .dataframe thead th {\n",
              "        text-align: right;\n",
              "    }\n",
              "</style>\n",
              "<table border=\"1\" class=\"dataframe\">\n",
              "  <thead>\n",
              "    <tr style=\"text-align: right;\">\n",
              "      <th></th>\n",
              "      <th>item_id</th>\n",
              "      <th>n_sold</th>\n",
              "    </tr>\n",
              "  </thead>\n",
              "  <tbody>\n",
              "    <tr>\n",
              "      <th>0</th>\n",
              "      <td>25671</td>\n",
              "      <td>6</td>\n",
              "    </tr>\n",
              "    <tr>\n",
              "      <th>1</th>\n",
              "      <td>26081</td>\n",
              "      <td>1</td>\n",
              "    </tr>\n",
              "    <tr>\n",
              "      <th>2</th>\n",
              "      <td>26093</td>\n",
              "      <td>1</td>\n",
              "    </tr>\n",
              "    <tr>\n",
              "      <th>3</th>\n",
              "      <td>26190</td>\n",
              "      <td>1</td>\n",
              "    </tr>\n",
              "    <tr>\n",
              "      <th>4</th>\n",
              "      <td>26355</td>\n",
              "      <td>2</td>\n",
              "    </tr>\n",
              "  </tbody>\n",
              "</table>\n",
              "</div>"
            ],
            "text/plain": [
              "   item_id  n_sold\n",
              "0    25671       6\n",
              "1    26081       1\n",
              "2    26093       1\n",
              "3    26190       1\n",
              "4    26355       2"
            ]
          },
          "execution_count": 17,
          "metadata": {},
          "output_type": "execute_result"
        }
      ],
      "source": [
        "popularity = data_train.groupby('item_id')['quantity'].sum().reset_index()\n",
        "popularity.rename(columns={'quantity': 'n_sold'}, inplace=True)\n",
        "\n",
        "popularity.head()"
      ]
    },
    {
      "cell_type": "code",
      "execution_count": null,
      "metadata": {
        "id": "zfXOMsg93zQI"
      },
      "outputs": [],
      "source": [
        "top_5000 = popularity.sort_values('n_sold', ascending=False).head(5000).item_id.tolist()"
      ]
    },
    {
      "cell_type": "code",
      "execution_count": null,
      "metadata": {
        "scrolled": true,
        "id": "E9iX7MU53zQJ",
        "outputId": "0713c7f4-c6ab-4407-bb72-8815d7958015"
      },
      "outputs": [
        {
          "data": {
            "text/html": [
              "<div>\n",
              "<style scoped>\n",
              "    .dataframe tbody tr th:only-of-type {\n",
              "        vertical-align: middle;\n",
              "    }\n",
              "\n",
              "    .dataframe tbody tr th {\n",
              "        vertical-align: top;\n",
              "    }\n",
              "\n",
              "    .dataframe thead th {\n",
              "        text-align: right;\n",
              "    }\n",
              "</style>\n",
              "<table border=\"1\" class=\"dataframe\">\n",
              "  <thead>\n",
              "    <tr style=\"text-align: right;\">\n",
              "      <th></th>\n",
              "      <th>user_id</th>\n",
              "      <th>basket_id</th>\n",
              "      <th>day</th>\n",
              "      <th>item_id</th>\n",
              "      <th>quantity</th>\n",
              "      <th>sales_value</th>\n",
              "      <th>store_id</th>\n",
              "      <th>retail_disc</th>\n",
              "      <th>trans_time</th>\n",
              "      <th>week_no</th>\n",
              "      <th>coupon_disc</th>\n",
              "      <th>coupon_match_disc</th>\n",
              "    </tr>\n",
              "  </thead>\n",
              "  <tbody>\n",
              "    <tr>\n",
              "      <th>0</th>\n",
              "      <td>2375</td>\n",
              "      <td>26984851472</td>\n",
              "      <td>1</td>\n",
              "      <td>1004906</td>\n",
              "      <td>1</td>\n",
              "      <td>1.39</td>\n",
              "      <td>364</td>\n",
              "      <td>-0.60</td>\n",
              "      <td>1631</td>\n",
              "      <td>1</td>\n",
              "      <td>0.0</td>\n",
              "      <td>0.0</td>\n",
              "    </tr>\n",
              "    <tr>\n",
              "      <th>1</th>\n",
              "      <td>2375</td>\n",
              "      <td>26984851472</td>\n",
              "      <td>1</td>\n",
              "      <td>1033142</td>\n",
              "      <td>1</td>\n",
              "      <td>0.82</td>\n",
              "      <td>364</td>\n",
              "      <td>0.00</td>\n",
              "      <td>1631</td>\n",
              "      <td>1</td>\n",
              "      <td>0.0</td>\n",
              "      <td>0.0</td>\n",
              "    </tr>\n",
              "    <tr>\n",
              "      <th>2</th>\n",
              "      <td>2375</td>\n",
              "      <td>26984851472</td>\n",
              "      <td>1</td>\n",
              "      <td>1036325</td>\n",
              "      <td>1</td>\n",
              "      <td>0.99</td>\n",
              "      <td>364</td>\n",
              "      <td>-0.30</td>\n",
              "      <td>1631</td>\n",
              "      <td>1</td>\n",
              "      <td>0.0</td>\n",
              "      <td>0.0</td>\n",
              "    </tr>\n",
              "    <tr>\n",
              "      <th>3</th>\n",
              "      <td>2375</td>\n",
              "      <td>26984851472</td>\n",
              "      <td>1</td>\n",
              "      <td>1082185</td>\n",
              "      <td>1</td>\n",
              "      <td>1.21</td>\n",
              "      <td>364</td>\n",
              "      <td>0.00</td>\n",
              "      <td>1631</td>\n",
              "      <td>1</td>\n",
              "      <td>0.0</td>\n",
              "      <td>0.0</td>\n",
              "    </tr>\n",
              "    <tr>\n",
              "      <th>4</th>\n",
              "      <td>2375</td>\n",
              "      <td>26984851472</td>\n",
              "      <td>1</td>\n",
              "      <td>8160430</td>\n",
              "      <td>1</td>\n",
              "      <td>1.50</td>\n",
              "      <td>364</td>\n",
              "      <td>-0.39</td>\n",
              "      <td>1631</td>\n",
              "      <td>1</td>\n",
              "      <td>0.0</td>\n",
              "      <td>0.0</td>\n",
              "    </tr>\n",
              "    <tr>\n",
              "      <th>...</th>\n",
              "      <td>...</td>\n",
              "      <td>...</td>\n",
              "      <td>...</td>\n",
              "      <td>...</td>\n",
              "      <td>...</td>\n",
              "      <td>...</td>\n",
              "      <td>...</td>\n",
              "      <td>...</td>\n",
              "      <td>...</td>\n",
              "      <td>...</td>\n",
              "      <td>...</td>\n",
              "      <td>...</td>\n",
              "    </tr>\n",
              "    <tr>\n",
              "      <th>95</th>\n",
              "      <td>1060</td>\n",
              "      <td>26985040735</td>\n",
              "      <td>1</td>\n",
              "      <td>9553288</td>\n",
              "      <td>1</td>\n",
              "      <td>8.49</td>\n",
              "      <td>315</td>\n",
              "      <td>0.00</td>\n",
              "      <td>1251</td>\n",
              "      <td>1</td>\n",
              "      <td>0.0</td>\n",
              "      <td>0.0</td>\n",
              "    </tr>\n",
              "    <tr>\n",
              "      <th>96</th>\n",
              "      <td>1351</td>\n",
              "      <td>26985052379</td>\n",
              "      <td>1</td>\n",
              "      <td>903230</td>\n",
              "      <td>1</td>\n",
              "      <td>0.99</td>\n",
              "      <td>447</td>\n",
              "      <td>-0.30</td>\n",
              "      <td>1955</td>\n",
              "      <td>1</td>\n",
              "      <td>0.0</td>\n",
              "      <td>0.0</td>\n",
              "    </tr>\n",
              "    <tr>\n",
              "      <th>97</th>\n",
              "      <td>744</td>\n",
              "      <td>26985165432</td>\n",
              "      <td>1</td>\n",
              "      <td>5978648</td>\n",
              "      <td>0</td>\n",
              "      <td>0.00</td>\n",
              "      <td>31582</td>\n",
              "      <td>0.00</td>\n",
              "      <td>1119</td>\n",
              "      <td>1</td>\n",
              "      <td>0.0</td>\n",
              "      <td>0.0</td>\n",
              "    </tr>\n",
              "    <tr>\n",
              "      <th>98</th>\n",
              "      <td>212</td>\n",
              "      <td>26985205886</td>\n",
              "      <td>1</td>\n",
              "      <td>822346</td>\n",
              "      <td>1</td>\n",
              "      <td>1.25</td>\n",
              "      <td>288</td>\n",
              "      <td>-0.34</td>\n",
              "      <td>1341</td>\n",
              "      <td>1</td>\n",
              "      <td>0.0</td>\n",
              "      <td>0.0</td>\n",
              "    </tr>\n",
              "    <tr>\n",
              "      <th>99</th>\n",
              "      <td>212</td>\n",
              "      <td>26985205886</td>\n",
              "      <td>1</td>\n",
              "      <td>830887</td>\n",
              "      <td>1</td>\n",
              "      <td>2.29</td>\n",
              "      <td>288</td>\n",
              "      <td>-0.70</td>\n",
              "      <td>1341</td>\n",
              "      <td>1</td>\n",
              "      <td>0.0</td>\n",
              "      <td>0.0</td>\n",
              "    </tr>\n",
              "  </tbody>\n",
              "</table>\n",
              "<p>100 rows × 12 columns</p>\n",
              "</div>"
            ],
            "text/plain": [
              "    user_id    basket_id  day  item_id  quantity  sales_value  store_id  \\\n",
              "0      2375  26984851472    1  1004906         1         1.39       364   \n",
              "1      2375  26984851472    1  1033142         1         0.82       364   \n",
              "2      2375  26984851472    1  1036325         1         0.99       364   \n",
              "3      2375  26984851472    1  1082185         1         1.21       364   \n",
              "4      2375  26984851472    1  8160430         1         1.50       364   \n",
              "..      ...          ...  ...      ...       ...          ...       ...   \n",
              "95     1060  26985040735    1  9553288         1         8.49       315   \n",
              "96     1351  26985052379    1   903230         1         0.99       447   \n",
              "97      744  26985165432    1  5978648         0         0.00     31582   \n",
              "98      212  26985205886    1   822346         1         1.25       288   \n",
              "99      212  26985205886    1   830887         1         2.29       288   \n",
              "\n",
              "    retail_disc  trans_time  week_no  coupon_disc  coupon_match_disc  \n",
              "0         -0.60        1631        1          0.0                0.0  \n",
              "1          0.00        1631        1          0.0                0.0  \n",
              "2         -0.30        1631        1          0.0                0.0  \n",
              "3          0.00        1631        1          0.0                0.0  \n",
              "4         -0.39        1631        1          0.0                0.0  \n",
              "..          ...         ...      ...          ...                ...  \n",
              "95         0.00        1251        1          0.0                0.0  \n",
              "96        -0.30        1955        1          0.0                0.0  \n",
              "97         0.00        1119        1          0.0                0.0  \n",
              "98        -0.34        1341        1          0.0                0.0  \n",
              "99        -0.70        1341        1          0.0                0.0  \n",
              "\n",
              "[100 rows x 12 columns]"
            ]
          },
          "execution_count": 19,
          "metadata": {},
          "output_type": "execute_result"
        }
      ],
      "source": [
        "data_train.head(100)"
      ]
    },
    {
      "cell_type": "code",
      "execution_count": null,
      "metadata": {
        "id": "d9-kjWVF3zQJ",
        "outputId": "4e88f2a2-ac38-4cd2-b665-72cf7c6cf658"
      },
      "outputs": [
        {
          "name": "stderr",
          "output_type": "stream",
          "text": [
            "/Users/a.rudnitskiy/opt/anaconda3/lib/python3.7/site-packages/pandas/core/indexing.py:1763: SettingWithCopyWarning: \n",
            "A value is trying to be set on a copy of a slice from a DataFrame.\n",
            "Try using .loc[row_indexer,col_indexer] = value instead\n",
            "\n",
            "See the caveats in the documentation: https://pandas.pydata.org/pandas-docs/stable/user_guide/indexing.html#returning-a-view-versus-a-copy\n",
            "  isetter(loc, value)\n"
          ]
        },
        {
          "data": {
            "text/html": [
              "<div>\n",
              "<style scoped>\n",
              "    .dataframe tbody tr th:only-of-type {\n",
              "        vertical-align: middle;\n",
              "    }\n",
              "\n",
              "    .dataframe tbody tr th {\n",
              "        vertical-align: top;\n",
              "    }\n",
              "\n",
              "    .dataframe thead th {\n",
              "        text-align: right;\n",
              "    }\n",
              "</style>\n",
              "<table border=\"1\" class=\"dataframe\">\n",
              "  <thead>\n",
              "    <tr style=\"text-align: right;\">\n",
              "      <th></th>\n",
              "      <th>user_id</th>\n",
              "      <th>basket_id</th>\n",
              "      <th>day</th>\n",
              "      <th>item_id</th>\n",
              "      <th>quantity</th>\n",
              "      <th>sales_value</th>\n",
              "      <th>store_id</th>\n",
              "      <th>retail_disc</th>\n",
              "      <th>trans_time</th>\n",
              "      <th>week_no</th>\n",
              "      <th>coupon_disc</th>\n",
              "      <th>coupon_match_disc</th>\n",
              "    </tr>\n",
              "  </thead>\n",
              "  <tbody>\n",
              "    <tr>\n",
              "      <th>0</th>\n",
              "      <td>2375</td>\n",
              "      <td>26984851472</td>\n",
              "      <td>1</td>\n",
              "      <td>1004906</td>\n",
              "      <td>1</td>\n",
              "      <td>1.39</td>\n",
              "      <td>364</td>\n",
              "      <td>-0.60</td>\n",
              "      <td>1631</td>\n",
              "      <td>1</td>\n",
              "      <td>0.0</td>\n",
              "      <td>0.0</td>\n",
              "    </tr>\n",
              "    <tr>\n",
              "      <th>1</th>\n",
              "      <td>2375</td>\n",
              "      <td>26984851472</td>\n",
              "      <td>1</td>\n",
              "      <td>1033142</td>\n",
              "      <td>1</td>\n",
              "      <td>0.82</td>\n",
              "      <td>364</td>\n",
              "      <td>0.00</td>\n",
              "      <td>1631</td>\n",
              "      <td>1</td>\n",
              "      <td>0.0</td>\n",
              "      <td>0.0</td>\n",
              "    </tr>\n",
              "    <tr>\n",
              "      <th>2</th>\n",
              "      <td>2375</td>\n",
              "      <td>26984851472</td>\n",
              "      <td>1</td>\n",
              "      <td>1036325</td>\n",
              "      <td>1</td>\n",
              "      <td>0.99</td>\n",
              "      <td>364</td>\n",
              "      <td>-0.30</td>\n",
              "      <td>1631</td>\n",
              "      <td>1</td>\n",
              "      <td>0.0</td>\n",
              "      <td>0.0</td>\n",
              "    </tr>\n",
              "    <tr>\n",
              "      <th>3</th>\n",
              "      <td>2375</td>\n",
              "      <td>26984851472</td>\n",
              "      <td>1</td>\n",
              "      <td>1082185</td>\n",
              "      <td>1</td>\n",
              "      <td>1.21</td>\n",
              "      <td>364</td>\n",
              "      <td>0.00</td>\n",
              "      <td>1631</td>\n",
              "      <td>1</td>\n",
              "      <td>0.0</td>\n",
              "      <td>0.0</td>\n",
              "    </tr>\n",
              "    <tr>\n",
              "      <th>4</th>\n",
              "      <td>2375</td>\n",
              "      <td>26984851472</td>\n",
              "      <td>1</td>\n",
              "      <td>8160430</td>\n",
              "      <td>1</td>\n",
              "      <td>1.50</td>\n",
              "      <td>364</td>\n",
              "      <td>-0.39</td>\n",
              "      <td>1631</td>\n",
              "      <td>1</td>\n",
              "      <td>0.0</td>\n",
              "      <td>0.0</td>\n",
              "    </tr>\n",
              "    <tr>\n",
              "      <th>...</th>\n",
              "      <td>...</td>\n",
              "      <td>...</td>\n",
              "      <td>...</td>\n",
              "      <td>...</td>\n",
              "      <td>...</td>\n",
              "      <td>...</td>\n",
              "      <td>...</td>\n",
              "      <td>...</td>\n",
              "      <td>...</td>\n",
              "      <td>...</td>\n",
              "      <td>...</td>\n",
              "      <td>...</td>\n",
              "    </tr>\n",
              "    <tr>\n",
              "      <th>95</th>\n",
              "      <td>1060</td>\n",
              "      <td>26985040735</td>\n",
              "      <td>1</td>\n",
              "      <td>9553288</td>\n",
              "      <td>1</td>\n",
              "      <td>8.49</td>\n",
              "      <td>315</td>\n",
              "      <td>0.00</td>\n",
              "      <td>1251</td>\n",
              "      <td>1</td>\n",
              "      <td>0.0</td>\n",
              "      <td>0.0</td>\n",
              "    </tr>\n",
              "    <tr>\n",
              "      <th>96</th>\n",
              "      <td>1351</td>\n",
              "      <td>26985052379</td>\n",
              "      <td>1</td>\n",
              "      <td>903230</td>\n",
              "      <td>1</td>\n",
              "      <td>0.99</td>\n",
              "      <td>447</td>\n",
              "      <td>-0.30</td>\n",
              "      <td>1955</td>\n",
              "      <td>1</td>\n",
              "      <td>0.0</td>\n",
              "      <td>0.0</td>\n",
              "    </tr>\n",
              "    <tr>\n",
              "      <th>97</th>\n",
              "      <td>744</td>\n",
              "      <td>26985165432</td>\n",
              "      <td>1</td>\n",
              "      <td>6666</td>\n",
              "      <td>0</td>\n",
              "      <td>0.00</td>\n",
              "      <td>31582</td>\n",
              "      <td>0.00</td>\n",
              "      <td>1119</td>\n",
              "      <td>1</td>\n",
              "      <td>0.0</td>\n",
              "      <td>0.0</td>\n",
              "    </tr>\n",
              "    <tr>\n",
              "      <th>98</th>\n",
              "      <td>212</td>\n",
              "      <td>26985205886</td>\n",
              "      <td>1</td>\n",
              "      <td>822346</td>\n",
              "      <td>1</td>\n",
              "      <td>1.25</td>\n",
              "      <td>288</td>\n",
              "      <td>-0.34</td>\n",
              "      <td>1341</td>\n",
              "      <td>1</td>\n",
              "      <td>0.0</td>\n",
              "      <td>0.0</td>\n",
              "    </tr>\n",
              "    <tr>\n",
              "      <th>99</th>\n",
              "      <td>212</td>\n",
              "      <td>26985205886</td>\n",
              "      <td>1</td>\n",
              "      <td>830887</td>\n",
              "      <td>1</td>\n",
              "      <td>2.29</td>\n",
              "      <td>288</td>\n",
              "      <td>-0.70</td>\n",
              "      <td>1341</td>\n",
              "      <td>1</td>\n",
              "      <td>0.0</td>\n",
              "      <td>0.0</td>\n",
              "    </tr>\n",
              "  </tbody>\n",
              "</table>\n",
              "<p>100 rows × 12 columns</p>\n",
              "</div>"
            ],
            "text/plain": [
              "    user_id    basket_id  day  item_id  quantity  sales_value  store_id  \\\n",
              "0      2375  26984851472    1  1004906         1         1.39       364   \n",
              "1      2375  26984851472    1  1033142         1         0.82       364   \n",
              "2      2375  26984851472    1  1036325         1         0.99       364   \n",
              "3      2375  26984851472    1  1082185         1         1.21       364   \n",
              "4      2375  26984851472    1  8160430         1         1.50       364   \n",
              "..      ...          ...  ...      ...       ...          ...       ...   \n",
              "95     1060  26985040735    1  9553288         1         8.49       315   \n",
              "96     1351  26985052379    1   903230         1         0.99       447   \n",
              "97      744  26985165432    1     6666         0         0.00     31582   \n",
              "98      212  26985205886    1   822346         1         1.25       288   \n",
              "99      212  26985205886    1   830887         1         2.29       288   \n",
              "\n",
              "    retail_disc  trans_time  week_no  coupon_disc  coupon_match_disc  \n",
              "0         -0.60        1631        1          0.0                0.0  \n",
              "1          0.00        1631        1          0.0                0.0  \n",
              "2         -0.30        1631        1          0.0                0.0  \n",
              "3          0.00        1631        1          0.0                0.0  \n",
              "4         -0.39        1631        1          0.0                0.0  \n",
              "..          ...         ...      ...          ...                ...  \n",
              "95         0.00        1251        1          0.0                0.0  \n",
              "96        -0.30        1955        1          0.0                0.0  \n",
              "97         0.00        1119        1          0.0                0.0  \n",
              "98        -0.34        1341        1          0.0                0.0  \n",
              "99        -0.70        1341        1          0.0                0.0  \n",
              "\n",
              "[100 rows x 12 columns]"
            ]
          },
          "execution_count": 20,
          "metadata": {},
          "output_type": "execute_result"
        }
      ],
      "source": [
        "# Заведем фиктивный item_id (если юзер покупал товары из топ-5000, то он \"купил\" такой товар)\n",
        "data_train.loc[~data_train['item_id'].isin(top_5000), 'item_id'] = 6666\n",
        "data_train.head(100)"
      ]
    },
    {
      "cell_type": "code",
      "execution_count": null,
      "metadata": {
        "id": "9F01IRMy3zQJ"
      },
      "outputs": [],
      "source": [
        "user_item_matrix = pd.pivot_table(data_train, \n",
        "                                  index='user_id', columns='item_id', \n",
        "                                  values='quantity',\n",
        "                                  aggfunc='count', \n",
        "                                  fill_value=0\n",
        "                                 )\n",
        "\n",
        "user_item_matrix[user_item_matrix > 0] = 1 # так как в итоге хотим предсказать \n",
        "\n",
        "user_item_matrix = user_item_matrix.astype(float) # необходимый тип матрицы для implicit\n",
        "\n",
        "# переведем в формат sparse matrix\n",
        "sparse_user_item = csr_matrix(user_item_matrix)\n"
      ]
    },
    {
      "cell_type": "markdown",
      "metadata": {
        "id": "nqjnMext3zQJ"
      },
      "source": [
        "## Разряженность матрицы"
      ]
    },
    {
      "cell_type": "code",
      "execution_count": null,
      "metadata": {
        "id": "evUhH5yo3zQJ",
        "outputId": "83e4fa3c-e899-47f1-9635-858fa0f5608e"
      },
      "outputs": [
        {
          "data": {
            "text/plain": [
              "5.33770796861036"
            ]
          },
          "execution_count": 27,
          "metadata": {},
          "output_type": "execute_result"
        }
      ],
      "source": [
        "user_item_matrix.sum().sum() / (user_item_matrix.shape[0] * user_item_matrix.shape[1]) * 100"
      ]
    },
    {
      "cell_type": "code",
      "execution_count": null,
      "metadata": {
        "id": "iMFEdDD33zQJ"
      },
      "outputs": [],
      "source": [
        "# создаем словари мапинга между id бизнеса к строчному id матрицы\n",
        "\n",
        "userids = user_item_matrix.index.values\n",
        "itemids = user_item_matrix.columns.values\n",
        "\n",
        "matrix_userids = np.arange(len(userids))\n",
        "matrix_itemids = np.arange(len(itemids))\n",
        "\n",
        "id_to_itemid = dict(zip(matrix_itemids, itemids))\n",
        "id_to_userid = dict(zip(matrix_userids, userids))\n",
        "\n",
        "itemid_to_id = dict(zip(itemids, matrix_itemids))\n",
        "userid_to_id = dict(zip(userids, matrix_userids))"
      ]
    },
    {
      "cell_type": "code",
      "execution_count": null,
      "metadata": {
        "id": "Rp54cSU33zQK",
        "outputId": "3e4be2c0-ad8e-4b30-f32f-e809e01e8221",
        "colab": {
          "referenced_widgets": [
            "32a2fec23c9f4c479f7c126907e69c41"
          ]
        }
      },
      "outputs": [
        {
          "data": {
            "application/vnd.jupyter.widget-view+json": {
              "model_id": "32a2fec23c9f4c479f7c126907e69c41",
              "version_major": 2,
              "version_minor": 0
            },
            "text/plain": [
              "HBox(children=(IntProgress(value=0, max=5001), HTML(value='')))"
            ]
          },
          "metadata": {},
          "output_type": "display_data"
        },
        {
          "name": "stdout",
          "output_type": "stream",
          "text": [
            "\n",
            "CPU times: user 1.76 s, sys: 50.2 ms, total: 1.81 s\n",
            "Wall time: 1.84 s\n"
          ]
        }
      ],
      "source": [
        "%%time\n",
        "\n",
        "model = ItemItemRecommender(K=5, num_threads=4) # K - кол-во билжайших соседей\n",
        "\n",
        "\n",
        "model.fit(csr_matrix(user_item_matrix).T.tocsr(),  # На вход item-user matrix\n",
        "          show_progress=True)\n",
        "\n",
        "\n",
        "recs = model.recommend(userid=userid_to_id[2],  # userid - id от 0 до N\n",
        "                        user_items=csr_matrix(user_item_matrix).tocsr(),   # на вход user-item matrix\n",
        "                        N=5, # кол-во рекомендаций \n",
        "                        filter_already_liked_items=False, \n",
        "                        filter_items=None, \n",
        "                        recalculate_user=True)"
      ]
    },
    {
      "cell_type": "code",
      "execution_count": null,
      "metadata": {
        "id": "fwAkpDU-3zQK",
        "outputId": "f6a32f45-b6dc-42b4-b99f-fe74b0222382"
      },
      "outputs": [
        {
          "data": {
            "text/plain": [
              "[(0, 78679.0),\n",
              " (3408, 72173.0),\n",
              " (2149, 57995.0),\n",
              " (3947, 17272.0),\n",
              " (3587, 14417.0)]"
            ]
          },
          "execution_count": 32,
          "metadata": {},
          "output_type": "execute_result"
        }
      ],
      "source": [
        "recs"
      ]
    },
    {
      "cell_type": "code",
      "execution_count": null,
      "metadata": {
        "id": "QhFnKLsZ3zQK",
        "outputId": "8e2ac7b2-872a-4b14-dffd-f88be7bc600e"
      },
      "outputs": [
        {
          "data": {
            "text/plain": [
              "[6666, 1082185, 981760, 1127831, 1098066]"
            ]
          },
          "execution_count": 34,
          "metadata": {},
          "output_type": "execute_result"
        }
      ],
      "source": [
        "[id_to_itemid[rec[0]] for rec in recs]"
      ]
    },
    {
      "cell_type": "code",
      "execution_count": null,
      "metadata": {
        "id": "Til93fgT3zQK",
        "outputId": "1906cd35-eacb-40d5-a16f-a74fb2aeeb86"
      },
      "outputs": [
        {
          "name": "stdout",
          "output_type": "stream",
          "text": [
            "CPU times: user 84.7 ms, sys: 3.06 ms, total: 87.8 ms\n",
            "Wall time: 88.3 ms\n"
          ]
        }
      ],
      "source": [
        "%%time\n",
        "\n",
        "result['itemitem'] = result['user_id'].apply(lambda user_id: [id_to_itemid[rec[0]]  \n",
        "                                                              for rec in model.recommend(userid=userid_to_id[user_id], \n",
        "                                                                user_items=sparse_user_item,   # на вход user-item matrix\n",
        "                                                                N=5, \n",
        "                                                                filter_already_liked_items=False, \n",
        "                                                                filter_items=None, \n",
        "                                                                recalculate_user=True)\n",
        "                                                                             ])"
      ]
    },
    {
      "cell_type": "code",
      "execution_count": null,
      "metadata": {
        "id": "0UufPTpW3zQL",
        "outputId": "f822b580-f318-4e29-c824-9179f10dda52"
      },
      "outputs": [
        {
          "data": {
            "text/html": [
              "<div>\n",
              "<style scoped>\n",
              "    .dataframe tbody tr th:only-of-type {\n",
              "        vertical-align: middle;\n",
              "    }\n",
              "\n",
              "    .dataframe tbody tr th {\n",
              "        vertical-align: top;\n",
              "    }\n",
              "\n",
              "    .dataframe thead th {\n",
              "        text-align: right;\n",
              "    }\n",
              "</style>\n",
              "<table border=\"1\" class=\"dataframe\">\n",
              "  <thead>\n",
              "    <tr style=\"text-align: right;\">\n",
              "      <th></th>\n",
              "      <th>user_id</th>\n",
              "      <th>actual</th>\n",
              "      <th>random_recommendation</th>\n",
              "      <th>popular_recommendation</th>\n",
              "      <th>itemitem</th>\n",
              "    </tr>\n",
              "  </thead>\n",
              "  <tbody>\n",
              "    <tr>\n",
              "      <th>0</th>\n",
              "      <td>1</td>\n",
              "      <td>[821867, 834484, 856942, 865456, 889248, 90795...</td>\n",
              "      <td>[8017789, 8181451, 941145, 6535995, 1072626]</td>\n",
              "      <td>[6534178, 6533889, 1029743, 6534166, 1082185]</td>\n",
              "      <td>[6666, 1082185, 981760, 1127831, 995242]</td>\n",
              "    </tr>\n",
              "    <tr>\n",
              "      <th>1</th>\n",
              "      <td>3</td>\n",
              "      <td>[835476, 851057, 872021, 878302, 879948, 90963...</td>\n",
              "      <td>[15599615, 443416, 8019217, 6040395, 766645]</td>\n",
              "      <td>[6534178, 6533889, 1029743, 6534166, 1082185]</td>\n",
              "      <td>[6666, 1082185, 981760, 1098066, 995242]</td>\n",
              "    </tr>\n",
              "    <tr>\n",
              "      <th>2</th>\n",
              "      <td>6</td>\n",
              "      <td>[920308, 926804, 946489, 1006718, 1017061, 107...</td>\n",
              "      <td>[8204737, 933719, 954210, 12428284, 12428141]</td>\n",
              "      <td>[6534178, 6533889, 1029743, 6534166, 1082185]</td>\n",
              "      <td>[6666, 1082185, 981760, 1127831, 995242]</td>\n",
              "    </tr>\n",
              "    <tr>\n",
              "      <th>3</th>\n",
              "      <td>7</td>\n",
              "      <td>[840386, 889774, 898068, 909714, 929067, 95347...</td>\n",
              "      <td>[1058269, 7167679, 1075549, 1042371, 891720]</td>\n",
              "      <td>[6534178, 6533889, 1029743, 6534166, 1082185]</td>\n",
              "      <td>[6666, 1082185, 981760, 1127831, 995242]</td>\n",
              "    </tr>\n",
              "    <tr>\n",
              "      <th>4</th>\n",
              "      <td>8</td>\n",
              "      <td>[835098, 872137, 910439, 924610, 992977, 10412...</td>\n",
              "      <td>[2023926, 934226, 940375, 556230, 13213200]</td>\n",
              "      <td>[6534178, 6533889, 1029743, 6534166, 1082185]</td>\n",
              "      <td>[6666, 1082185, 981760, 1127831, 1098066]</td>\n",
              "    </tr>\n",
              "    <tr>\n",
              "      <th>5</th>\n",
              "      <td>9</td>\n",
              "      <td>[864335, 990865, 1029743, 9297474, 10457112, 8...</td>\n",
              "      <td>[964677, 871650, 967500, 8068795, 7024814]</td>\n",
              "      <td>[6534178, 6533889, 1029743, 6534166, 1082185]</td>\n",
              "      <td>[6666, 1082185, 981760, 995242, 1098066]</td>\n",
              "    </tr>\n",
              "    <tr>\n",
              "      <th>6</th>\n",
              "      <td>13</td>\n",
              "      <td>[6534178, 1104146, 829197, 840361, 862070, 884...</td>\n",
              "      <td>[6919314, 17171306, 5563755, 1070559, 42478]</td>\n",
              "      <td>[6534178, 6533889, 1029743, 6534166, 1082185]</td>\n",
              "      <td>[6666, 1082185, 981760, 1098066, 1127831]</td>\n",
              "    </tr>\n",
              "    <tr>\n",
              "      <th>7</th>\n",
              "      <td>14</td>\n",
              "      <td>[840601, 867293, 933067, 951590, 952408, 96569...</td>\n",
              "      <td>[941006, 2042988, 96866, 12351901, 13777415]</td>\n",
              "      <td>[6534178, 6533889, 1029743, 6534166, 1082185]</td>\n",
              "      <td>[6666, 1082185, 981760, 1098066, 995242]</td>\n",
              "    </tr>\n",
              "    <tr>\n",
              "      <th>8</th>\n",
              "      <td>15</td>\n",
              "      <td>[910439, 1082185, 959076, 1023958, 1082310, 13...</td>\n",
              "      <td>[959627, 9832702, 8090623, 864258, 1319077]</td>\n",
              "      <td>[6534178, 6533889, 1029743, 6534166, 1082185]</td>\n",
              "      <td>[6666, 1082185, 981760, 1127831, 995242]</td>\n",
              "    </tr>\n",
              "    <tr>\n",
              "      <th>9</th>\n",
              "      <td>16</td>\n",
              "      <td>[1062973, 1082185, 13007710]</td>\n",
              "      <td>[9676152, 1128568, 8118500, 8019638, 3829079]</td>\n",
              "      <td>[6534178, 6533889, 1029743, 6534166, 1082185]</td>\n",
              "      <td>[6666, 1082185, 981760, 995242, 1029743]</td>\n",
              "    </tr>\n",
              "  </tbody>\n",
              "</table>\n",
              "</div>"
            ],
            "text/plain": [
              "   user_id                                             actual  \\\n",
              "0        1  [821867, 834484, 856942, 865456, 889248, 90795...   \n",
              "1        3  [835476, 851057, 872021, 878302, 879948, 90963...   \n",
              "2        6  [920308, 926804, 946489, 1006718, 1017061, 107...   \n",
              "3        7  [840386, 889774, 898068, 909714, 929067, 95347...   \n",
              "4        8  [835098, 872137, 910439, 924610, 992977, 10412...   \n",
              "5        9  [864335, 990865, 1029743, 9297474, 10457112, 8...   \n",
              "6       13  [6534178, 1104146, 829197, 840361, 862070, 884...   \n",
              "7       14  [840601, 867293, 933067, 951590, 952408, 96569...   \n",
              "8       15  [910439, 1082185, 959076, 1023958, 1082310, 13...   \n",
              "9       16                       [1062973, 1082185, 13007710]   \n",
              "\n",
              "                           random_recommendation  \\\n",
              "0   [8017789, 8181451, 941145, 6535995, 1072626]   \n",
              "1   [15599615, 443416, 8019217, 6040395, 766645]   \n",
              "2  [8204737, 933719, 954210, 12428284, 12428141]   \n",
              "3   [1058269, 7167679, 1075549, 1042371, 891720]   \n",
              "4    [2023926, 934226, 940375, 556230, 13213200]   \n",
              "5     [964677, 871650, 967500, 8068795, 7024814]   \n",
              "6   [6919314, 17171306, 5563755, 1070559, 42478]   \n",
              "7   [941006, 2042988, 96866, 12351901, 13777415]   \n",
              "8    [959627, 9832702, 8090623, 864258, 1319077]   \n",
              "9  [9676152, 1128568, 8118500, 8019638, 3829079]   \n",
              "\n",
              "                          popular_recommendation  \\\n",
              "0  [6534178, 6533889, 1029743, 6534166, 1082185]   \n",
              "1  [6534178, 6533889, 1029743, 6534166, 1082185]   \n",
              "2  [6534178, 6533889, 1029743, 6534166, 1082185]   \n",
              "3  [6534178, 6533889, 1029743, 6534166, 1082185]   \n",
              "4  [6534178, 6533889, 1029743, 6534166, 1082185]   \n",
              "5  [6534178, 6533889, 1029743, 6534166, 1082185]   \n",
              "6  [6534178, 6533889, 1029743, 6534166, 1082185]   \n",
              "7  [6534178, 6533889, 1029743, 6534166, 1082185]   \n",
              "8  [6534178, 6533889, 1029743, 6534166, 1082185]   \n",
              "9  [6534178, 6533889, 1029743, 6534166, 1082185]   \n",
              "\n",
              "                                    itemitem  \n",
              "0   [6666, 1082185, 981760, 1127831, 995242]  \n",
              "1   [6666, 1082185, 981760, 1098066, 995242]  \n",
              "2   [6666, 1082185, 981760, 1127831, 995242]  \n",
              "3   [6666, 1082185, 981760, 1127831, 995242]  \n",
              "4  [6666, 1082185, 981760, 1127831, 1098066]  \n",
              "5   [6666, 1082185, 981760, 995242, 1098066]  \n",
              "6  [6666, 1082185, 981760, 1098066, 1127831]  \n",
              "7   [6666, 1082185, 981760, 1098066, 995242]  \n",
              "8   [6666, 1082185, 981760, 1127831, 995242]  \n",
              "9   [6666, 1082185, 981760, 995242, 1029743]  "
            ]
          },
          "execution_count": 37,
          "metadata": {},
          "output_type": "execute_result"
        }
      ],
      "source": [
        "result.head(10)"
      ]
    },
    {
      "cell_type": "markdown",
      "metadata": {
        "id": "YiIaareY3zQL"
      },
      "source": [
        "### 4.2 Косинусное сходство и CosineRecommender"
      ]
    },
    {
      "cell_type": "markdown",
      "metadata": {
        "id": "apahAvaU3zQL"
      },
      "source": [
        "![cosine_similarity.png](attachment:cosine_similarity.png)"
      ]
    },
    {
      "cell_type": "code",
      "execution_count": null,
      "metadata": {
        "id": "Lojy51y13zQL",
        "outputId": "e57e0a49-da9c-493f-898e-3965bef2704e",
        "colab": {
          "referenced_widgets": [
            "c378683fbb974ca19eefd42688a1482b"
          ]
        }
      },
      "outputs": [
        {
          "data": {
            "application/vnd.jupyter.widget-view+json": {
              "model_id": "c378683fbb974ca19eefd42688a1482b",
              "version_major": 2,
              "version_minor": 0
            },
            "text/plain": [
              "HBox(children=(IntProgress(value=0, max=5001), HTML(value='')))"
            ]
          },
          "metadata": {},
          "output_type": "display_data"
        },
        {
          "name": "stdout",
          "output_type": "stream",
          "text": [
            "\n",
            "CPU times: user 1.81 s, sys: 48.5 ms, total: 1.86 s\n",
            "Wall time: 1.9 s\n"
          ]
        }
      ],
      "source": [
        "%%time\n",
        "\n",
        "model = CosineRecommender(K=1, num_threads=4) # K - кол-во билжайших соседей\n",
        "\n",
        "model.fit(csr_matrix(user_item_matrix).T.tocsr(), \n",
        "          show_progress=True)\n",
        "\n",
        "recs = model.recommend(userid=userid_to_id[1], \n",
        "                        user_items=csr_matrix(user_item_matrix).tocsr(),   # на вход user-item matrix\n",
        "                        N=5, \n",
        "                        filter_already_liked_items=False, \n",
        "                        filter_items=None, \n",
        "                        recalculate_user=False)"
      ]
    },
    {
      "cell_type": "code",
      "execution_count": null,
      "metadata": {
        "id": "aPGo4-wV3zQL",
        "outputId": "9d2ca384-2caf-4e17-e918-dcb67932d0f6"
      },
      "outputs": [
        {
          "data": {
            "text/plain": [
              "[1082185, 1029743, 1081177, 904360, 6034857]"
            ]
          },
          "execution_count": 100,
          "metadata": {},
          "output_type": "execute_result"
        }
      ],
      "source": [
        "[id_to_itemid[rec[0]] for rec in recs]"
      ]
    },
    {
      "cell_type": "code",
      "execution_count": null,
      "metadata": {
        "id": "twkTIwts3zQM",
        "outputId": "fd95b744-08a9-47ed-cc9f-0f855c7185bd"
      },
      "outputs": [
        {
          "name": "stdout",
          "output_type": "stream",
          "text": [
            "CPU times: user 75.2 ms, sys: 3.63 ms, total: 78.9 ms\n",
            "Wall time: 79.6 ms\n"
          ]
        }
      ],
      "source": [
        "%%time\n",
        "\n",
        "result['cosine'] = result['user_id'].\\\n",
        "    apply(lambda x: [id_to_itemid[rec[0]] for rec in \n",
        "                    model.recommend(userid=userid_to_id[x], \n",
        "                                    user_items=sparse_user_item,   # на вход user-item matrix\n",
        "                                    N=5, \n",
        "                                    filter_already_liked_items=False, \n",
        "                                    filter_items=None, \n",
        "                                    recalculate_user=True)])"
      ]
    },
    {
      "cell_type": "code",
      "execution_count": null,
      "metadata": {
        "id": "W8_5-NZi3zQM",
        "outputId": "f3de52b2-4b03-4f6d-87df-aa630f8a29a5"
      },
      "outputs": [
        {
          "data": {
            "text/html": [
              "<div>\n",
              "<style scoped>\n",
              "    .dataframe tbody tr th:only-of-type {\n",
              "        vertical-align: middle;\n",
              "    }\n",
              "\n",
              "    .dataframe tbody tr th {\n",
              "        vertical-align: top;\n",
              "    }\n",
              "\n",
              "    .dataframe thead th {\n",
              "        text-align: right;\n",
              "    }\n",
              "</style>\n",
              "<table border=\"1\" class=\"dataframe\">\n",
              "  <thead>\n",
              "    <tr style=\"text-align: right;\">\n",
              "      <th></th>\n",
              "      <th>user_id</th>\n",
              "      <th>actual</th>\n",
              "      <th>random_recommendation</th>\n",
              "      <th>popular_recommendation</th>\n",
              "      <th>itemitem</th>\n",
              "      <th>cosine</th>\n",
              "      <th>tfidf</th>\n",
              "      <th>own_purchases</th>\n",
              "    </tr>\n",
              "  </thead>\n",
              "  <tbody>\n",
              "    <tr>\n",
              "      <th>0</th>\n",
              "      <td>1</td>\n",
              "      <td>[821867, 834484, 856942, 865456, 889248, 90795...</td>\n",
              "      <td>[8017789, 8181451, 941145, 6535995, 1072626]</td>\n",
              "      <td>[6534178, 6533889, 1029743, 6534166, 1082185]</td>\n",
              "      <td>[6666, 1082185, 981760, 1127831, 995242]</td>\n",
              "      <td>[1082185, 1029743, 1081177, 904360, 6034857]</td>\n",
              "      <td>[1082185, 981760, 1127831, 6666, 1098066]</td>\n",
              "      <td>[1082185, 995242, 1029743, 840361, 904360]</td>\n",
              "    </tr>\n",
              "    <tr>\n",
              "      <th>1</th>\n",
              "      <td>3</td>\n",
              "      <td>[835476, 851057, 872021, 878302, 879948, 90963...</td>\n",
              "      <td>[15599615, 443416, 8019217, 6040395, 766645]</td>\n",
              "      <td>[6534178, 6533889, 1029743, 6534166, 1082185]</td>\n",
              "      <td>[6666, 1082185, 981760, 1098066, 995242]</td>\n",
              "      <td>[1082185, 951590, 1044078, 9526410, 904360]</td>\n",
              "      <td>[1082185, 981760, 1098066, 826249, 6666]</td>\n",
              "      <td>[1082185, 1098066, 6534178, 826249, 1127831]</td>\n",
              "    </tr>\n",
              "  </tbody>\n",
              "</table>\n",
              "</div>"
            ],
            "text/plain": [
              "   user_id                                             actual  \\\n",
              "0        1  [821867, 834484, 856942, 865456, 889248, 90795...   \n",
              "1        3  [835476, 851057, 872021, 878302, 879948, 90963...   \n",
              "\n",
              "                          random_recommendation  \\\n",
              "0  [8017789, 8181451, 941145, 6535995, 1072626]   \n",
              "1  [15599615, 443416, 8019217, 6040395, 766645]   \n",
              "\n",
              "                          popular_recommendation  \\\n",
              "0  [6534178, 6533889, 1029743, 6534166, 1082185]   \n",
              "1  [6534178, 6533889, 1029743, 6534166, 1082185]   \n",
              "\n",
              "                                   itemitem  \\\n",
              "0  [6666, 1082185, 981760, 1127831, 995242]   \n",
              "1  [6666, 1082185, 981760, 1098066, 995242]   \n",
              "\n",
              "                                         cosine  \\\n",
              "0  [1082185, 1029743, 1081177, 904360, 6034857]   \n",
              "1   [1082185, 951590, 1044078, 9526410, 904360]   \n",
              "\n",
              "                                       tfidf  \\\n",
              "0  [1082185, 981760, 1127831, 6666, 1098066]   \n",
              "1   [1082185, 981760, 1098066, 826249, 6666]   \n",
              "\n",
              "                                  own_purchases  \n",
              "0    [1082185, 995242, 1029743, 840361, 904360]  \n",
              "1  [1082185, 1098066, 6534178, 826249, 1127831]  "
            ]
          },
          "execution_count": 102,
          "metadata": {},
          "output_type": "execute_result"
        }
      ],
      "source": [
        "result.head(2)"
      ]
    },
    {
      "cell_type": "markdown",
      "metadata": {
        "id": "2-2N0HFf3zQM"
      },
      "source": [
        "### 4.3 TF-IDF взвешивание и TFIDFRecommender"
      ]
    },
    {
      "cell_type": "markdown",
      "metadata": {
        "id": "E0vRzWYy3zQM"
      },
      "source": [
        "![tf_idf.png](attachment:tf_idf.png)"
      ]
    },
    {
      "cell_type": "markdown",
      "metadata": {
        "id": "pv2SMvtz3zQM"
      },
      "source": [
        "Если 2 юзера оба купили очень популярный товар, то это еще не значит,что они похожи   \n",
        "Если 2 юзера оба купили редкий товар, то они похожи\n",
        "\n",
        "Занижаем вес популярных товаров при расчете расстояний между пользователями"
      ]
    },
    {
      "cell_type": "code",
      "execution_count": null,
      "metadata": {
        "id": "MzK5y2sE3zQM",
        "outputId": "675f135c-93e0-4d88-b007-386333c62be6",
        "colab": {
          "referenced_widgets": [
            "9df77ea7440640cabb4e62b02b826e56"
          ]
        }
      },
      "outputs": [
        {
          "data": {
            "application/vnd.jupyter.widget-view+json": {
              "model_id": "9df77ea7440640cabb4e62b02b826e56",
              "version_major": 2,
              "version_minor": 0
            },
            "text/plain": [
              "HBox(children=(IntProgress(value=0, max=5001), HTML(value='')))"
            ]
          },
          "metadata": {},
          "output_type": "display_data"
        },
        {
          "name": "stdout",
          "output_type": "stream",
          "text": [
            "\n",
            "CPU times: user 1.91 s, sys: 52.8 ms, total: 1.96 s\n",
            "Wall time: 2.09 s\n"
          ]
        }
      ],
      "source": [
        "%%time\n",
        "\n",
        "model = TFIDFRecommender(K=5, num_threads=4) # K - кол-во билжайших соседей\n",
        "\n",
        "model.fit(csr_matrix(user_item_matrix).T.tocsr(), \n",
        "          show_progress=True)\n",
        "\n",
        "recs = model.recommend(userid=userid_to_id[1], \n",
        "                        user_items=csr_matrix(user_item_matrix).tocsr(),   # на вход user-item matrix\n",
        "                        N=5, \n",
        "                        filter_already_liked_items=False, \n",
        "                        filter_items=None, \n",
        "                        recalculate_user=False)"
      ]
    },
    {
      "cell_type": "code",
      "execution_count": null,
      "metadata": {
        "id": "mi1M0sSX3zQN",
        "outputId": "5ef9af88-fbbd-4073-e037-8f31d6ee9516"
      },
      "outputs": [
        {
          "data": {
            "text/plain": [
              "[1082185, 981760, 1127831, 6666, 1098066]"
            ]
          },
          "execution_count": 87,
          "metadata": {},
          "output_type": "execute_result"
        }
      ],
      "source": [
        "[id_to_itemid[rec[0]] for rec in recs]"
      ]
    },
    {
      "cell_type": "code",
      "execution_count": null,
      "metadata": {
        "id": "q9GtMHDp3zQN",
        "outputId": "39e763de-fe10-4b65-9b9e-d29cd1259560"
      },
      "outputs": [
        {
          "name": "stdout",
          "output_type": "stream",
          "text": [
            "CPU times: user 82.3 ms, sys: 2.24 ms, total: 84.6 ms\n",
            "Wall time: 83.8 ms\n"
          ]
        }
      ],
      "source": [
        "%%time\n",
        "\n",
        "result['tfidf'] = result['user_id'].\\\n",
        "    apply(lambda x: [id_to_itemid[rec[0]] for rec in \n",
        "                    model.recommend(userid=userid_to_id[x], \n",
        "                                    user_items=sparse_user_item,   # на вход user-item matrix\n",
        "                                    N=5, \n",
        "                                    filter_already_liked_items=False, \n",
        "                                    filter_items=False, \n",
        "                                    recalculate_user=False)])"
      ]
    },
    {
      "cell_type": "code",
      "execution_count": null,
      "metadata": {
        "id": "ZYCID4pr3zQN",
        "outputId": "17b5d97b-460d-44c5-d481-51dfe39a429d"
      },
      "outputs": [
        {
          "data": {
            "text/html": [
              "<div>\n",
              "<style scoped>\n",
              "    .dataframe tbody tr th:only-of-type {\n",
              "        vertical-align: middle;\n",
              "    }\n",
              "\n",
              "    .dataframe tbody tr th {\n",
              "        vertical-align: top;\n",
              "    }\n",
              "\n",
              "    .dataframe thead th {\n",
              "        text-align: right;\n",
              "    }\n",
              "</style>\n",
              "<table border=\"1\" class=\"dataframe\">\n",
              "  <thead>\n",
              "    <tr style=\"text-align: right;\">\n",
              "      <th></th>\n",
              "      <th>user_id</th>\n",
              "      <th>actual</th>\n",
              "      <th>random_recommendation</th>\n",
              "      <th>popular_recommendation</th>\n",
              "      <th>itemitem</th>\n",
              "      <th>cosine</th>\n",
              "      <th>tfidf</th>\n",
              "      <th>own_purchases</th>\n",
              "    </tr>\n",
              "  </thead>\n",
              "  <tbody>\n",
              "    <tr>\n",
              "      <th>0</th>\n",
              "      <td>1</td>\n",
              "      <td>[821867, 834484, 856942, 865456, 889248, 90795...</td>\n",
              "      <td>[8017789, 8181451, 941145, 6535995, 1072626]</td>\n",
              "      <td>[6534178, 6533889, 1029743, 6534166, 1082185]</td>\n",
              "      <td>[6666, 1082185, 981760, 1127831, 995242]</td>\n",
              "      <td>[1082185, 6666, 981760, 1127831, 1098066]</td>\n",
              "      <td>[1082185, 981760, 1127831, 6666, 1098066]</td>\n",
              "      <td>[1082185, 995242, 1029743, 840361, 904360]</td>\n",
              "    </tr>\n",
              "    <tr>\n",
              "      <th>1</th>\n",
              "      <td>3</td>\n",
              "      <td>[835476, 851057, 872021, 878302, 879948, 90963...</td>\n",
              "      <td>[15599615, 443416, 8019217, 6040395, 766645]</td>\n",
              "      <td>[6534178, 6533889, 1029743, 6534166, 1082185]</td>\n",
              "      <td>[6666, 1082185, 981760, 1098066, 995242]</td>\n",
              "      <td>[1082185, 1098066, 981760, 6666, 826249]</td>\n",
              "      <td>[1082185, 981760, 1098066, 826249, 6666]</td>\n",
              "      <td>[1082185, 1098066, 6534178, 826249, 1127831]</td>\n",
              "    </tr>\n",
              "    <tr>\n",
              "      <th>2</th>\n",
              "      <td>6</td>\n",
              "      <td>[920308, 926804, 946489, 1006718, 1017061, 107...</td>\n",
              "      <td>[8204737, 933719, 954210, 12428284, 12428141]</td>\n",
              "      <td>[6534178, 6533889, 1029743, 6534166, 1082185]</td>\n",
              "      <td>[6666, 1082185, 981760, 1127831, 995242]</td>\n",
              "      <td>[1082185, 6666, 981760, 1127831, 1098066]</td>\n",
              "      <td>[1082185, 981760, 1127831, 6666, 878996]</td>\n",
              "      <td>[1082185, 981760, 995242, 1029743, 840361]</td>\n",
              "    </tr>\n",
              "    <tr>\n",
              "      <th>3</th>\n",
              "      <td>7</td>\n",
              "      <td>[840386, 889774, 898068, 909714, 929067, 95347...</td>\n",
              "      <td>[1058269, 7167679, 1075549, 1042371, 891720]</td>\n",
              "      <td>[6534178, 6533889, 1029743, 6534166, 1082185]</td>\n",
              "      <td>[6666, 1082185, 981760, 1127831, 995242]</td>\n",
              "      <td>[1082185, 981760, 6666, 1127831, 961554]</td>\n",
              "      <td>[1082185, 981760, 1127831, 6666, 961554]</td>\n",
              "      <td>[1082185, 995242, 1029743, 826249, 1127831]</td>\n",
              "    </tr>\n",
              "    <tr>\n",
              "      <th>4</th>\n",
              "      <td>8</td>\n",
              "      <td>[835098, 872137, 910439, 924610, 992977, 10412...</td>\n",
              "      <td>[2023926, 934226, 940375, 556230, 13213200]</td>\n",
              "      <td>[6534178, 6533889, 1029743, 6534166, 1082185]</td>\n",
              "      <td>[6666, 1082185, 981760, 1127831, 1098066]</td>\n",
              "      <td>[1082185, 981760, 6666, 1098066, 826249]</td>\n",
              "      <td>[1082185, 981760, 6666, 1098066, 826249]</td>\n",
              "      <td>[1082185, 981760, 995242, 1029743, 840361]</td>\n",
              "    </tr>\n",
              "  </tbody>\n",
              "</table>\n",
              "</div>"
            ],
            "text/plain": [
              "   user_id                                             actual  \\\n",
              "0        1  [821867, 834484, 856942, 865456, 889248, 90795...   \n",
              "1        3  [835476, 851057, 872021, 878302, 879948, 90963...   \n",
              "2        6  [920308, 926804, 946489, 1006718, 1017061, 107...   \n",
              "3        7  [840386, 889774, 898068, 909714, 929067, 95347...   \n",
              "4        8  [835098, 872137, 910439, 924610, 992977, 10412...   \n",
              "\n",
              "                           random_recommendation  \\\n",
              "0   [8017789, 8181451, 941145, 6535995, 1072626]   \n",
              "1   [15599615, 443416, 8019217, 6040395, 766645]   \n",
              "2  [8204737, 933719, 954210, 12428284, 12428141]   \n",
              "3   [1058269, 7167679, 1075549, 1042371, 891720]   \n",
              "4    [2023926, 934226, 940375, 556230, 13213200]   \n",
              "\n",
              "                          popular_recommendation  \\\n",
              "0  [6534178, 6533889, 1029743, 6534166, 1082185]   \n",
              "1  [6534178, 6533889, 1029743, 6534166, 1082185]   \n",
              "2  [6534178, 6533889, 1029743, 6534166, 1082185]   \n",
              "3  [6534178, 6533889, 1029743, 6534166, 1082185]   \n",
              "4  [6534178, 6533889, 1029743, 6534166, 1082185]   \n",
              "\n",
              "                                    itemitem  \\\n",
              "0   [6666, 1082185, 981760, 1127831, 995242]   \n",
              "1   [6666, 1082185, 981760, 1098066, 995242]   \n",
              "2   [6666, 1082185, 981760, 1127831, 995242]   \n",
              "3   [6666, 1082185, 981760, 1127831, 995242]   \n",
              "4  [6666, 1082185, 981760, 1127831, 1098066]   \n",
              "\n",
              "                                      cosine  \\\n",
              "0  [1082185, 6666, 981760, 1127831, 1098066]   \n",
              "1   [1082185, 1098066, 981760, 6666, 826249]   \n",
              "2  [1082185, 6666, 981760, 1127831, 1098066]   \n",
              "3   [1082185, 981760, 6666, 1127831, 961554]   \n",
              "4   [1082185, 981760, 6666, 1098066, 826249]   \n",
              "\n",
              "                                       tfidf  \\\n",
              "0  [1082185, 981760, 1127831, 6666, 1098066]   \n",
              "1   [1082185, 981760, 1098066, 826249, 6666]   \n",
              "2   [1082185, 981760, 1127831, 6666, 878996]   \n",
              "3   [1082185, 981760, 1127831, 6666, 961554]   \n",
              "4   [1082185, 981760, 6666, 1098066, 826249]   \n",
              "\n",
              "                                  own_purchases  \n",
              "0    [1082185, 995242, 1029743, 840361, 904360]  \n",
              "1  [1082185, 1098066, 6534178, 826249, 1127831]  \n",
              "2    [1082185, 981760, 995242, 1029743, 840361]  \n",
              "3   [1082185, 995242, 1029743, 826249, 1127831]  \n",
              "4    [1082185, 981760, 995242, 1029743, 840361]  "
            ]
          },
          "execution_count": 89,
          "metadata": {},
          "output_type": "execute_result"
        }
      ],
      "source": [
        "result.head(5)"
      ]
    },
    {
      "cell_type": "markdown",
      "metadata": {
        "id": "ft5entiq3zQN"
      },
      "source": [
        "### 4.4 Трюк"
      ]
    },
    {
      "cell_type": "code",
      "execution_count": null,
      "metadata": {
        "id": "J28D2kRy3zQN",
        "outputId": "2c8449cc-f34c-4043-e283-d6e07ee190ca",
        "colab": {
          "referenced_widgets": [
            "b0ecafa17f054ae6b59a7ab8f56bce31"
          ]
        }
      },
      "outputs": [
        {
          "data": {
            "application/vnd.jupyter.widget-view+json": {
              "model_id": "b0ecafa17f054ae6b59a7ab8f56bce31",
              "version_major": 2,
              "version_minor": 0
            },
            "text/plain": [
              "HBox(children=(IntProgress(value=0, max=5001), HTML(value='')))"
            ]
          },
          "metadata": {},
          "output_type": "display_data"
        },
        {
          "name": "stdout",
          "output_type": "stream",
          "text": [
            "\n",
            "CPU times: user 1.41 s, sys: 23.9 ms, total: 1.43 s\n",
            "Wall time: 1.45 s\n"
          ]
        }
      ],
      "source": [
        "%%time\n",
        "\n",
        "model = ItemItemRecommender(K=1, num_threads=4) # K - кол-во билжайших соседей\n",
        "\n",
        "\n",
        "model.fit(csr_matrix(user_item_matrix).T.tocsr(), \n",
        "          show_progress=True)"
      ]
    },
    {
      "cell_type": "code",
      "execution_count": null,
      "metadata": {
        "scrolled": true,
        "id": "2twGee173zQN",
        "outputId": "b133cf9f-5688-467c-fb78-f2bbef121642"
      },
      "outputs": [
        {
          "name": "stdout",
          "output_type": "stream",
          "text": [
            "CPU times: user 69.1 ms, sys: 2.67 ms, total: 71.8 ms\n",
            "Wall time: 77 ms\n"
          ]
        }
      ],
      "source": [
        "%%time\n",
        "\n",
        "result['own_purchases'] = result['user_id'].\\\n",
        "    apply(lambda x: [id_to_itemid[rec[0]] for rec in \n",
        "                    model.recommend(userid=userid_to_id[x], \n",
        "                                    user_items=sparse_user_item,   # на вход user-item matrix\n",
        "                                    N=5, \n",
        "                                    filter_already_liked_items=False, \n",
        "                                    filter_items=[itemid_to_id[6666]], \n",
        "                                    recalculate_user=True)])"
      ]
    },
    {
      "cell_type": "markdown",
      "metadata": {
        "id": "gHrFnkgx3zQO"
      },
      "source": [
        "### 4.5 Измерим качество по precision@5"
      ]
    },
    {
      "cell_type": "code",
      "execution_count": null,
      "metadata": {
        "id": "wESji-Cq3zQO",
        "outputId": "e1a24778-f9fa-405f-ab4f-c9d2fcc05993"
      },
      "outputs": [
        {
          "data": {
            "text/html": [
              "<div>\n",
              "<style scoped>\n",
              "    .dataframe tbody tr th:only-of-type {\n",
              "        vertical-align: middle;\n",
              "    }\n",
              "\n",
              "    .dataframe tbody tr th {\n",
              "        vertical-align: top;\n",
              "    }\n",
              "\n",
              "    .dataframe thead th {\n",
              "        text-align: right;\n",
              "    }\n",
              "</style>\n",
              "<table border=\"1\" class=\"dataframe\">\n",
              "  <thead>\n",
              "    <tr style=\"text-align: right;\">\n",
              "      <th></th>\n",
              "      <th>user_id</th>\n",
              "      <th>actual</th>\n",
              "      <th>random_recommendation</th>\n",
              "      <th>popular_recommendation</th>\n",
              "      <th>itemitem</th>\n",
              "      <th>cosine</th>\n",
              "      <th>tfidf</th>\n",
              "      <th>own_purchases</th>\n",
              "    </tr>\n",
              "  </thead>\n",
              "  <tbody>\n",
              "    <tr>\n",
              "      <th>0</th>\n",
              "      <td>1</td>\n",
              "      <td>[821867, 834484, 856942, 865456, 889248, 90795...</td>\n",
              "      <td>[8017789, 8181451, 941145, 6535995, 1072626]</td>\n",
              "      <td>[6534178, 6533889, 1029743, 6534166, 1082185]</td>\n",
              "      <td>[6666, 1082185, 981760, 1127831, 995242]</td>\n",
              "      <td>[1082185, 6666, 981760, 1127831, 1098066]</td>\n",
              "      <td>[1082185, 981760, 1127831, 6666, 1098066]</td>\n",
              "      <td>[1082185, 995242, 1029743, 840361, 904360]</td>\n",
              "    </tr>\n",
              "    <tr>\n",
              "      <th>1</th>\n",
              "      <td>3</td>\n",
              "      <td>[835476, 851057, 872021, 878302, 879948, 90963...</td>\n",
              "      <td>[15599615, 443416, 8019217, 6040395, 766645]</td>\n",
              "      <td>[6534178, 6533889, 1029743, 6534166, 1082185]</td>\n",
              "      <td>[6666, 1082185, 981760, 1098066, 995242]</td>\n",
              "      <td>[1082185, 1098066, 981760, 6666, 826249]</td>\n",
              "      <td>[1082185, 981760, 1098066, 826249, 6666]</td>\n",
              "      <td>[1082185, 1098066, 6534178, 826249, 1127831]</td>\n",
              "    </tr>\n",
              "    <tr>\n",
              "      <th>2</th>\n",
              "      <td>6</td>\n",
              "      <td>[920308, 926804, 946489, 1006718, 1017061, 107...</td>\n",
              "      <td>[8204737, 933719, 954210, 12428284, 12428141]</td>\n",
              "      <td>[6534178, 6533889, 1029743, 6534166, 1082185]</td>\n",
              "      <td>[6666, 1082185, 981760, 1127831, 995242]</td>\n",
              "      <td>[1082185, 6666, 981760, 1127831, 1098066]</td>\n",
              "      <td>[1082185, 981760, 1127831, 6666, 878996]</td>\n",
              "      <td>[1082185, 981760, 995242, 1029743, 840361]</td>\n",
              "    </tr>\n",
              "    <tr>\n",
              "      <th>3</th>\n",
              "      <td>7</td>\n",
              "      <td>[840386, 889774, 898068, 909714, 929067, 95347...</td>\n",
              "      <td>[1058269, 7167679, 1075549, 1042371, 891720]</td>\n",
              "      <td>[6534178, 6533889, 1029743, 6534166, 1082185]</td>\n",
              "      <td>[6666, 1082185, 981760, 1127831, 995242]</td>\n",
              "      <td>[1082185, 981760, 6666, 1127831, 961554]</td>\n",
              "      <td>[1082185, 981760, 1127831, 6666, 961554]</td>\n",
              "      <td>[1082185, 995242, 1029743, 826249, 1127831]</td>\n",
              "    </tr>\n",
              "    <tr>\n",
              "      <th>4</th>\n",
              "      <td>8</td>\n",
              "      <td>[835098, 872137, 910439, 924610, 992977, 10412...</td>\n",
              "      <td>[2023926, 934226, 940375, 556230, 13213200]</td>\n",
              "      <td>[6534178, 6533889, 1029743, 6534166, 1082185]</td>\n",
              "      <td>[6666, 1082185, 981760, 1127831, 1098066]</td>\n",
              "      <td>[1082185, 981760, 6666, 1098066, 826249]</td>\n",
              "      <td>[1082185, 981760, 6666, 1098066, 826249]</td>\n",
              "      <td>[1082185, 981760, 995242, 1029743, 840361]</td>\n",
              "    </tr>\n",
              "  </tbody>\n",
              "</table>\n",
              "</div>"
            ],
            "text/plain": [
              "   user_id                                             actual  \\\n",
              "0        1  [821867, 834484, 856942, 865456, 889248, 90795...   \n",
              "1        3  [835476, 851057, 872021, 878302, 879948, 90963...   \n",
              "2        6  [920308, 926804, 946489, 1006718, 1017061, 107...   \n",
              "3        7  [840386, 889774, 898068, 909714, 929067, 95347...   \n",
              "4        8  [835098, 872137, 910439, 924610, 992977, 10412...   \n",
              "\n",
              "                           random_recommendation  \\\n",
              "0   [8017789, 8181451, 941145, 6535995, 1072626]   \n",
              "1   [15599615, 443416, 8019217, 6040395, 766645]   \n",
              "2  [8204737, 933719, 954210, 12428284, 12428141]   \n",
              "3   [1058269, 7167679, 1075549, 1042371, 891720]   \n",
              "4    [2023926, 934226, 940375, 556230, 13213200]   \n",
              "\n",
              "                          popular_recommendation  \\\n",
              "0  [6534178, 6533889, 1029743, 6534166, 1082185]   \n",
              "1  [6534178, 6533889, 1029743, 6534166, 1082185]   \n",
              "2  [6534178, 6533889, 1029743, 6534166, 1082185]   \n",
              "3  [6534178, 6533889, 1029743, 6534166, 1082185]   \n",
              "4  [6534178, 6533889, 1029743, 6534166, 1082185]   \n",
              "\n",
              "                                    itemitem  \\\n",
              "0   [6666, 1082185, 981760, 1127831, 995242]   \n",
              "1   [6666, 1082185, 981760, 1098066, 995242]   \n",
              "2   [6666, 1082185, 981760, 1127831, 995242]   \n",
              "3   [6666, 1082185, 981760, 1127831, 995242]   \n",
              "4  [6666, 1082185, 981760, 1127831, 1098066]   \n",
              "\n",
              "                                      cosine  \\\n",
              "0  [1082185, 6666, 981760, 1127831, 1098066]   \n",
              "1   [1082185, 1098066, 981760, 6666, 826249]   \n",
              "2  [1082185, 6666, 981760, 1127831, 1098066]   \n",
              "3   [1082185, 981760, 6666, 1127831, 961554]   \n",
              "4   [1082185, 981760, 6666, 1098066, 826249]   \n",
              "\n",
              "                                       tfidf  \\\n",
              "0  [1082185, 981760, 1127831, 6666, 1098066]   \n",
              "1   [1082185, 981760, 1098066, 826249, 6666]   \n",
              "2   [1082185, 981760, 1127831, 6666, 878996]   \n",
              "3   [1082185, 981760, 1127831, 6666, 961554]   \n",
              "4   [1082185, 981760, 6666, 1098066, 826249]   \n",
              "\n",
              "                                  own_purchases  \n",
              "0    [1082185, 995242, 1029743, 840361, 904360]  \n",
              "1  [1082185, 1098066, 6534178, 826249, 1127831]  \n",
              "2    [1082185, 981760, 995242, 1029743, 840361]  \n",
              "3   [1082185, 995242, 1029743, 826249, 1127831]  \n",
              "4    [1082185, 981760, 995242, 1029743, 840361]  "
            ]
          },
          "execution_count": 96,
          "metadata": {},
          "output_type": "execute_result"
        }
      ],
      "source": [
        "result.head(5)"
      ]
    },
    {
      "cell_type": "code",
      "execution_count": null,
      "metadata": {
        "id": "bsJQHOiY3zQO"
      },
      "outputs": [],
      "source": [
        "# Функции из 1-ого вебинара\n",
        "import os, sys\n",
        "    \n",
        "from metrics import precision_at_k, recall_at_k"
      ]
    },
    {
      "cell_type": "markdown",
      "metadata": {
        "id": "Lq6jJhiP3zQO"
      },
      "source": [
        "# Metrics"
      ]
    },
    {
      "cell_type": "code",
      "execution_count": null,
      "metadata": {
        "id": "PimkE1Hd3zQO",
        "outputId": "19389e8b-8d5f-4304-c39d-0c14b3ea0b01"
      },
      "outputs": [
        {
          "name": "stdout",
          "output_type": "stream",
          "text": [
            "1.0:actual\n",
            "0.0006:random_recommendation\n",
            "0.1552:popular_recommendation\n",
            "0.1368:itemitem\n",
            "0.1728:cosine\n",
            "0.139:tfidf\n",
            "0.2199:own_purchases\n"
          ]
        },
        {
          "name": "stderr",
          "output_type": "stream",
          "text": [
            "/Users/a.rudnitskiy/projects/python/projects_personal/GeekBrainsRecommendations/lessons/webinar_2/metrics.py:20: RuntimeWarning: invalid value encountered in long_scalars\n",
            "  return flags.sum() / len(recommended_list)\n"
          ]
        }
      ],
      "source": [
        "for name_col in result.columns[1:]:\n",
        "    print(f\"{round(result.apply(lambda row: precision_at_k(row[name_col], row['actual']), axis=1).mean(),4)}:{name_col}\")"
      ]
    }
  ],
  "metadata": {
    "colab": {
      "name": "hw_webinar_2.ipynb",
      "provenance": [],
      "include_colab_link": true
    },
    "kernelspec": {
      "display_name": "Python 3",
      "language": "python",
      "name": "python3"
    },
    "language_info": {
      "codemirror_mode": {
        "name": "ipython",
        "version": 3
      },
      "file_extension": ".py",
      "mimetype": "text/x-python",
      "name": "python",
      "nbconvert_exporter": "python",
      "pygments_lexer": "ipython3",
      "version": "3.7.4"
    }
  },
  "nbformat": 4,
  "nbformat_minor": 0
}