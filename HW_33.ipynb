{
  "nbformat": 4,
  "nbformat_minor": 0,
  "metadata": {
    "colab": {
      "name": "HW_33.ipynb",
      "provenance": [],
      "authorship_tag": "ABX9TyPx23zeyJoM2Ss+soditcNh",
      "include_colab_link": true
    },
    "kernelspec": {
      "name": "python3",
      "display_name": "Python 3"
    },
    "language_info": {
      "name": "python"
    }
  },
  "cells": [
    {
      "cell_type": "markdown",
      "metadata": {
        "id": "view-in-github",
        "colab_type": "text"
      },
      "source": [
        "<a href=\"https://colab.research.google.com/github/Ksenia-90/recommender_systems/blob/lesson_33/HW_33.ipynb\" target=\"_parent\"><img src=\"https://colab.research.google.com/assets/colab-badge.svg\" alt=\"Open In Colab\"/></a>"
      ]
    },
    {
      "cell_type": "markdown",
      "source": [
        "##Урок 3. Коллаборативная фильтрация"
      ],
      "metadata": {
        "id": "Ge_yokNJ6jUw"
      }
    },
    {
      "cell_type": "markdown",
      "source": [
        "Ответы на вопросы:"
      ],
      "metadata": {
        "id": "7zknZ-eP6RUu"
      }
    },
    {
      "cell_type": "markdown",
      "source": [
        "Мне кажется необходимо сегментировать клиентов на более мелкие группы, разделяя по признакам: пол, возраст, география, поведение на сайте, интересующие товары, история покупол, кластиризация товара. Важна чатота рассылок и рекоментации конкретному клиенту. Можно предположить что продажи выратут на 15-20%. Можно пойти от обратного выбрать нужный товар для продажи и подобрать группу клиентов которая с большей вероятностью купить этот товар. Например: Kомпания продает товары для животных через интернет-магазин. Алгоритм анализирует частотность конкретных покупок конкретными клиентами. Предположим, что корм покупают один раз в месяц. Учитывая персональные особенности и индивидуальный график каждого клиента, отправляем ему письмо с предложением повторить предыдущий заказ. Получаем например результат: +10% click rate +32% конверсии в заказ\n",
        "\n",
        "Очень важно уделить внимание бизнес аспекту например: не следует часто менять цены, чтобы не смутить клиентов; не стоит в несколько раз изменять стоимость товара, Индивидуальное ценообразование для группы клиентов в одном сегменте покупок, географии, обьеме покупок.....\n",
        "\n",
        "Основные методы: Контент-ориентированный подход. Коллаборативная фильтрация. Кластеризация.\n",
        "\n",
        "Важно погрузиться в суть бизнеса не всегда применяются одни и теже методы все индивидуально: где-то лучше будут работать рекомендации по подобию, где-то по сопутствующим товарам, где-то по связи покупок клиентов."
      ],
      "metadata": {
        "id": "wmONAgGy6JtV"
      }
    },
    {
      "cell_type": "markdown",
      "source": [
        "Поэкспериментировать с ALS"
      ],
      "metadata": {
        "id": "LIEF8tTf7bkV"
      }
    },
    {
      "cell_type": "code",
      "source": [
        "model = AlternatingLeastSquares(factors=100, \n",
        "                                regularization=0.01,\n",
        "                                use_native=True,\n",
        "                                use_cg=True,\n",
        "                                iterations=15,\n",
        "                                use_gpu=implicit.gpu.HAS_CUDA,\n",
        "                                calculate_training_loss=False,\n",
        "                                num_threads=2\n",
        "                                )\n",
        "\n",
        "model.fit(csr_matrix(user_item_matrix).T.tocsr(),  # На вход item-user matrix\n",
        "          show_progress=True)\n",
        "\n",
        "recs = model.recommend(userid=userid_to_id[2],  # userid - id от 0 до N\n",
        "                        user_items=csr_matrix(user_item_matrix).tocsr(),   # на вход user-item matrix\n",
        "                        N=5, # кол-во рекомендаций \n",
        "                        filter_already_liked_items=False, \n",
        "                        filter_items=None, \n",
        "                        recalculate_user=True)"
      ],
      "metadata": {
        "id": "kxOU67Ip6yZ7"
      },
      "execution_count": null,
      "outputs": []
    },
    {
      "cell_type": "markdown",
      "source": [
        "Написать функцию"
      ],
      "metadata": {
        "id": "00FtCUFa9uII"
      }
    },
    {
      "cell_type": "code",
      "source": [
        "  def prefilter_items(data, take_n_popular=5000):\n",
        "    \"\"\"Предфильтрация товаров\"\"\"\n",
        "    data = data[data.sales_value / data.quantity >= 1]\n",
        "\n",
        "    data = data[data.sales_value != 0]\n",
        "    data = data[data.quantity != 0]\n",
        "    data = data[data.sales_value / data.quantity <= 30]\n",
        "\n",
        "    popular = data.groupby('item_id')['user_id'].nunique().reset_index()\n",
        "    users_count = data['user_id'].nunique()\n",
        "    popular['user_id'] = popular['user_id'].apply(lambda x: x / users_count)\n",
        "    popular.rename(columns={'user_id': 'share_unique_users'}, inplace=True)\n",
        "    popular.sort_values(by='share_unique_users', ascending=False, inplace=True)\n",
        "\n",
        "    top_popular = popular[popular['share_unique_users'] > 0.5].item_id.tolist()\n",
        "    data = data[~data['item_id'].isin(top_popular)]\n",
        "    \n",
        "    popularity = data.groupby('item_id')['quantity'].sum().reset_index()\n",
        "    popularity.rename(columns={'quantity': 'n_sold'}, inplace=True)\n",
        "\n",
        "    top_n = popularity.sort_values('n_sold', ascending=False).head(take_n_popular).item_id.tolist()\n",
        "   \n",
        "   \n",
        "    data.loc[~data['item_id'].isin(top_n), 'item_id'] = 999999\n",
        "\n",
        "    return data"
      ],
      "metadata": {
        "id": "JEHF9jG47a61"
      },
      "execution_count": null,
      "outputs": []
    }
  ]
}