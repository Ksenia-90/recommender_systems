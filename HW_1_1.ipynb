{
  "cells": [
    {
      "cell_type": "markdown",
      "metadata": {
        "id": "view-in-github",
        "colab_type": "text"
      },
      "source": [
        "<a href=\"https://colab.research.google.com/github/Ksenia-90/recommender_systems/blob/Lesson_1_1/HW_1_1.ipynb\" target=\"_parent\"><img src=\"https://colab.research.google.com/assets/colab-badge.svg\" alt=\"Open In Colab\"/></a>"
      ]
    },
    {
      "cell_type": "markdown",
      "metadata": {
        "id": "89mFQmjdo1gZ"
      },
      "source": [
        "# Вебинар 1. Введение, примеры задач, бизнес- и ML-метрики "
      ]
    },
    {
      "cell_type": "markdown",
      "source": [
        "* 1 Ранговый коэффициент корреляции Кендэлла\n",
        "* 2.Ранговый коэффициент корреляции Спирмена\n",
        "* На оскове каскадной:\n",
        "1. Expected reciprocal rank (ERR)\n",
        "2. PFound"
      ],
      "metadata": {
        "id": "kH0YrQKqpdtc"
      }
    },
    {
      "cell_type": "code",
      "execution_count": 1,
      "metadata": {
        "id": "MDr2G6YIo1g_"
      },
      "outputs": [],
      "source": [
        "import pandas as pd\n",
        "import numpy as np"
      ]
    },
    {
      "cell_type": "markdown",
      "metadata": {
        "id": "8VrZhsIbo1ha"
      },
      "source": [
        "# 2. ML-mетрики качества"
      ]
    },
    {
      "cell_type": "code",
      "execution_count": 2,
      "metadata": {
        "id": "bxqcDo_vo1hh"
      },
      "outputs": [],
      "source": [
        "# список товаров, которые мы порекомендуем пользователю в заданном порядке\n",
        "recommended_list = [143, 156, 1134, 991, 27, 1543, 3345, 533, 11, 43] #id товаров\n",
        "\n",
        "# юзер 1 купил данные товары\n",
        "bought_list = [521, 32, 143, 991]"
      ]
    },
    {
      "cell_type": "markdown",
      "metadata": {
        "id": "IZ6mlwcSo1hn"
      },
      "source": [
        "### 1. Hit rate"
      ]
    },
    {
      "cell_type": "code",
      "execution_count": 3,
      "metadata": {
        "id": "UdC9moeIo1ho"
      },
      "outputs": [],
      "source": [
        "def hit_rate(recommended_list, bought_list):\n",
        "    bought_list = np.array(bought_list)\n",
        "    recommended_list = np.array(recommended_list)\n",
        "    \n",
        "    flags = np.isin(bought_list, recommended_list)\n",
        "    return (flags.sum() > 0) * 1"
      ]
    },
    {
      "cell_type": "code",
      "source": [
        "def get_sum_intersection(recommended_list, bought_list):\n",
        "  return len(list(set(recommended_list) & set(bought_list)))\n"
      ],
      "metadata": {
        "id": "U5zsXWJM9eFZ"
      },
      "execution_count": 4,
      "outputs": []
    },
    {
      "cell_type": "code",
      "source": [
        "def hit_rate_at_k(recommended_list, bought_list):\n",
        "  sum = get_sum_intersection(recommended_list, bought_list)\n",
        "  if sum > 0:\n",
        "    return 1\n",
        "  else:\n",
        "    return 0\n",
        "    #сделать дома"
      ],
      "metadata": {
        "id": "wQPU9GOp9b-E"
      },
      "execution_count": 5,
      "outputs": []
    },
    {
      "cell_type": "code",
      "execution_count": 7,
      "metadata": {
        "id": "UVwy3jlPf3BO"
      },
      "outputs": [],
      "source": [
        "recommended_list = [143,156, 1134, 27, 1543, 3345, 533, 11, 43] #id товаров\n",
        "bought_list = [521, 32, 143, 991]"
      ]
    },
    {
      "cell_type": "code",
      "execution_count": 8,
      "metadata": {
        "id": "cQXLlorio1hs",
        "outputId": "88049b09-6f04-400b-d25c-d17153258170",
        "colab": {
          "base_uri": "https://localhost:8080/"
        }
      },
      "outputs": [
        {
          "output_type": "execute_result",
          "data": {
            "text/plain": [
              "1"
            ]
          },
          "metadata": {},
          "execution_count": 8
        }
      ],
      "source": [
        "hit_rate(recommended_list, bought_list)"
      ]
    },
    {
      "cell_type": "code",
      "source": [
        "hit_rate_at_k(recommended_list[:5], bought_list)"
      ],
      "metadata": {
        "id": "LtXqCExhltPm",
        "colab": {
          "base_uri": "https://localhost:8080/"
        },
        "outputId": "c7152dc0-308a-4bd3-b976-9661ab3151e1"
      },
      "execution_count": 12,
      "outputs": [
        {
          "output_type": "execute_result",
          "data": {
            "text/plain": [
              "1"
            ]
          },
          "metadata": {},
          "execution_count": 12
        }
      ]
    },
    {
      "cell_type": "markdown",
      "metadata": {
        "id": "iwXCUigno1hy"
      },
      "source": [
        "### 2. Precision"
      ]
    },
    {
      "cell_type": "code",
      "execution_count": 13,
      "metadata": {
        "id": "ZERzlhTff3BP"
      },
      "outputs": [],
      "source": [
        "recommended_list = [2,3,8,6,9,2,5,10] #id товаров\n",
        "bought_list = [1,5,6]"
      ]
    },
    {
      "cell_type": "code",
      "execution_count": 14,
      "metadata": {
        "id": "bDZRoYivo1h1"
      },
      "outputs": [],
      "source": [
        "def precision(recommended_list, bought_list):\n",
        "    \n",
        "    bought_list = np.array(bought_list)\n",
        "    recommended_list = np.array(recommended_list)\n",
        "    \n",
        "    flags = np.isin(bought_list, recommended_list)\n",
        "    return flags.sum() / len(recommended_list)"
      ]
    },
    {
      "cell_type": "code",
      "source": [
        "def precision_at_k (recommended_list, bought_list):\n",
        "   flags = get_sum_intersection(recommended_list, bought_list)\n",
        "   return flags / len(recommended_list)\n",
        "     #сделать дома"
      ],
      "metadata": {
        "id": "emgdQFg-Ax3y"
      },
      "execution_count": 15,
      "outputs": []
    },
    {
      "cell_type": "code",
      "source": [
        "def precision_at_k_2(recommended_list, bought_list):\n",
        "   return precision(recommended_list[:5], bought_list)"
      ],
      "metadata": {
        "id": "1qpTmBRezqtA"
      },
      "execution_count": 16,
      "outputs": []
    },
    {
      "cell_type": "code",
      "execution_count": 17,
      "metadata": {
        "id": "pmSqHPfvf3BQ",
        "outputId": "5b6d2bfc-b8b8-48f5-e3fc-2030385e5aa0",
        "colab": {
          "base_uri": "https://localhost:8080/"
        }
      },
      "outputs": [
        {
          "output_type": "execute_result",
          "data": {
            "text/plain": [
              "0.25"
            ]
          },
          "metadata": {},
          "execution_count": 17
        }
      ],
      "source": [
        "precision(recommended_list, bought_list)"
      ]
    },
    {
      "cell_type": "code",
      "source": [
        "precision_at_k(recommended_list[:5], bought_list)"
      ],
      "metadata": {
        "id": "7Qamc9fcBUNl",
        "outputId": "afd66ed3-684e-4a66-af72-6785c22236d7",
        "colab": {
          "base_uri": "https://localhost:8080/"
        }
      },
      "execution_count": 18,
      "outputs": [
        {
          "output_type": "execute_result",
          "data": {
            "text/plain": [
              "0.2"
            ]
          },
          "metadata": {},
          "execution_count": 18
        }
      ]
    },
    {
      "cell_type": "code",
      "source": [
        "precision_at_k_2(recommended_list, bought_list)"
      ],
      "metadata": {
        "colab": {
          "base_uri": "https://localhost:8080/"
        },
        "id": "_3u6iljPz4MX",
        "outputId": "1e18f0ec-7ab9-4102-8d70-8d550cb41e43"
      },
      "execution_count": 19,
      "outputs": [
        {
          "output_type": "execute_result",
          "data": {
            "text/plain": [
              "0.2"
            ]
          },
          "metadata": {},
          "execution_count": 19
        }
      ]
    },
    {
      "cell_type": "code",
      "execution_count": null,
      "metadata": {
        "id": "35CJV2C7o1iB"
      },
      "outputs": [],
      "source": [
        "def money_precision_at_k(recommended_list, bought_list, prices_recommended, k=5):\n",
        "    \n",
        "    recommend_list = np.array(recommended_list)[:k]\n",
        "    prices_recommended = np.array(prices_recommended)[:k]\n",
        "    \n",
        "    flags = np.isin(recommend_list, bought_list)\n",
        "    \n",
        "    precision = np.dot(flags, prices_recommended).sum() / prices_recommended.sum()\n",
        "    \n",
        "    return precision"
      ]
    },
    {
      "cell_type": "code",
      "execution_count": null,
      "metadata": {
        "id": "87evhhTSf3BQ",
        "outputId": "937d8554-6b63-4667-971a-1f9cbd2e7a62",
        "colab": {
          "base_uri": "https://localhost:8080/"
        }
      },
      "outputs": [
        {
          "output_type": "execute_result",
          "data": {
            "text/plain": [
              "0.01966982788900597"
            ]
          },
          "metadata": {},
          "execution_count": 23
        }
      ],
      "source": [
        "prices = [23,2233,534,56,1]\n",
        "money_precision_at_k(recommended_list, bought_list, prices)"
      ]
    },
    {
      "cell_type": "markdown",
      "metadata": {
        "id": "NfVd3dnCo1iN"
      },
      "source": [
        "### 3. Recall"
      ]
    },
    {
      "cell_type": "code",
      "execution_count": 21,
      "metadata": {
        "id": "g2sl_HTfo1iS"
      },
      "outputs": [],
      "source": [
        "def recall(recommended_list, bought_list):\n",
        "    \n",
        "    bought_list = np.array(bought_list)\n",
        "    recommended_list = np.array(recommended_list)\n",
        "    \n",
        "    flags = np.isin(bought_list, recommended_list)\n",
        "    return flags.sum() / len(bought_list)\n",
        "  "
      ]
    },
    {
      "cell_type": "code",
      "source": [
        "def recall_at_k(recommended_list, bought_list):\n",
        "  return get_sum_intersection(recommended_list, bought_list)/len(bought_list)\n",
        "\n",
        "#    сделать дома"
      ],
      "metadata": {
        "id": "2KXP7wXF0YHS"
      },
      "execution_count": 28,
      "outputs": []
    },
    {
      "cell_type": "code",
      "source": [
        "def recall_at_k_2(recommended_list, bought_list):\n",
        "  return recall(recommended_list[:5], bought_list)"
      ],
      "metadata": {
        "id": "7PHfHOv20caW"
      },
      "execution_count": 31,
      "outputs": []
    },
    {
      "cell_type": "code",
      "source": [
        "def money_recall_at_k_k(recommended_list, bought_list, prices_recommended, prices_bought):\n",
        "  flags = get_sum_intersection(recommended_list, bought_list)/len(bought_list)\n",
        "  return (flags @ prices_recommended) / prices_bought.sum() \n",
        "  # сделать дома"
      ],
      "metadata": {
        "id": "4FESSJDcFgQy"
      },
      "execution_count": 24,
      "outputs": []
    },
    {
      "cell_type": "code",
      "execution_count": 25,
      "metadata": {
        "id": "kd4I_xqvo1iX",
        "outputId": "343e9c7c-a6d8-4a3c-8df9-6d5c961cac71",
        "colab": {
          "base_uri": "https://localhost:8080/"
        }
      },
      "outputs": [
        {
          "output_type": "execute_result",
          "data": {
            "text/plain": [
              "0.6666666666666666"
            ]
          },
          "metadata": {},
          "execution_count": 25
        }
      ],
      "source": [
        "recall(recommended_list, bought_list)"
      ]
    },
    {
      "cell_type": "code",
      "execution_count": 29,
      "metadata": {
        "id": "BAiZryiMf3BR",
        "outputId": "c94edcf3-faf1-4fe6-feb9-2017071af812",
        "colab": {
          "base_uri": "https://localhost:8080/"
        }
      },
      "outputs": [
        {
          "output_type": "execute_result",
          "data": {
            "text/plain": [
              "0.3333333333333333"
            ]
          },
          "metadata": {},
          "execution_count": 29
        }
      ],
      "source": [
        "recall_at_k(recommended_list[:5],bought_list)"
      ]
    },
    {
      "cell_type": "code",
      "source": [
        "recall_at_k_2(recommended_list[:5],bought_list)"
      ],
      "metadata": {
        "colab": {
          "base_uri": "https://localhost:8080/"
        },
        "id": "srCdeCZz09Ps",
        "outputId": "164ccea5-ec1a-438c-df97-605be3300627"
      },
      "execution_count": 34,
      "outputs": [
        {
          "output_type": "execute_result",
          "data": {
            "text/plain": [
              "0.3333333333333333"
            ]
          },
          "metadata": {},
          "execution_count": 34
        }
      ]
    },
    {
      "cell_type": "markdown",
      "metadata": {
        "id": "A-9Go3EOo1ib"
      },
      "source": [
        "---"
      ]
    },
    {
      "cell_type": "markdown",
      "metadata": {
        "id": "p06Ri8-go1ic"
      },
      "source": [
        "# Метрики ранжирования"
      ]
    },
    {
      "cell_type": "markdown",
      "metadata": {
        "id": "F95YT0wwo1id"
      },
      "source": [
        "## AP@k"
      ]
    },
    {
      "cell_type": "code",
      "execution_count": null,
      "metadata": {
        "id": "RFUegwgff3BS"
      },
      "outputs": [],
      "source": [
        "recommended_list = [22, 21, 4, 1, 234, 232432,234234,666] #id товаров\n",
        "bought_list = [1, 221, 3, 4,]"
      ]
    },
    {
      "cell_type": "code",
      "execution_count": null,
      "metadata": {
        "id": "U-wU9Xgwf3BS"
      },
      "outputs": [],
      "source": [
        "def ap_k(recommended_list, bought_list):\n",
        "    \n",
        "    bought_list = np.array(bought_list)\n",
        "    recommended_list = np.array(recommended_list)\n",
        "    \n",
        "    relevant_indexes = np.nonzero(np.isin(recommended_list, bought_list))[0]\n",
        "    if len(relevant_indexes) == 0:\n",
        "        return 0\n",
        "    \n",
        "    amount_relevant = len(relevant_indexes)\n",
        "            \n",
        "    sum_ = sum([precision_at_k(recommended_list, bought_list) for index_relevant in relevant_indexes])\n",
        "    return sum_/amount_relevant\n",
        "  \n",
        "    "
      ]
    },
    {
      "cell_type": "code",
      "execution_count": null,
      "metadata": {
        "id": "ngaKc2umf3BT",
        "outputId": "e70eaa36-72ff-4e34-b738-47ab8238deb2",
        "colab": {
          "base_uri": "https://localhost:8080/"
        }
      },
      "outputs": [
        {
          "output_type": "execute_result",
          "data": {
            "text/plain": [
              "0.4"
            ]
          },
          "metadata": {},
          "execution_count": 41
        }
      ],
      "source": [
        "ap_k(recommended_list[:5], bought_list)"
      ]
    },
    {
      "cell_type": "markdown",
      "metadata": {
        "id": "GyKVp_A_o1ip"
      },
      "source": [
        "### MAP@k"
      ]
    },
    {
      "cell_type": "code",
      "execution_count": null,
      "metadata": {
        "id": "DrPVfPV7f3BT"
      },
      "outputs": [],
      "source": [
        "# теперь список из 3 пользователей\n",
        "recommended_list_3_users = [[143, 156, 1134, 991, 27, 1543, 3345, 533, 11, 43], \n",
        "                    [1134, 533, 14, 4, 15, 1543, 1, 99, 27, 3345],\n",
        "                    [991, 3345, 27, 533, 43, 143, 1543, 156, 1134, 11]\n",
        "                    ]\n",
        "\n",
        "bought_list_3_users = [[521, 32, 143],  # юзер 1\n",
        "                       [143, 156, 991, 43, 11], # юзер 2\n",
        "                       [1,2]] # юзер 3"
      ]
    },
    {
      "cell_type": "code",
      "execution_count": null,
      "metadata": {
        "id": "heZq-3_Vo1iq"
      },
      "outputs": [],
      "source": [
        "def map_k(recommended_list, bought_list, k=5):\n",
        "    amount_user = len(bought_list)\n",
        "    list_ap_k = [ap_k(recommended_list[i], bought_list[i]) for i in np.arange(amount_user)]\n",
        "    \n",
        "    sum_ap_k = sum(list_ap_k)  \n",
        "    return sum_ap_k/amount_user\n",
        "    \n",
        "    # сделать дома"
      ]
    },
    {
      "cell_type": "code",
      "source": [
        "map_k(recommended_list[:5], bought_list)"
      ],
      "metadata": {
        "id": "4Mz4JaGmnPZ9",
        "outputId": "15ec24bf-b7bc-45c7-95c6-268f06d70db5",
        "colab": {
          "base_uri": "https://localhost:8080/"
        }
      },
      "execution_count": null,
      "outputs": [
        {
          "output_type": "execute_result",
          "data": {
            "text/plain": [
              "0.0"
            ]
          },
          "metadata": {},
          "execution_count": 47
        }
      ]
    },
    {
      "cell_type": "markdown",
      "metadata": {
        "id": "-aRUBub7o1ix"
      },
      "source": [
        "### Normalized discounted cumulative gain ( NDCG@k)"
      ]
    },
    {
      "cell_type": "code",
      "source": [
        "import math"
      ],
      "metadata": {
        "id": "2bc8V3AGIHXt"
      },
      "execution_count": null,
      "outputs": []
    },
    {
      "cell_type": "code",
      "execution_count": null,
      "metadata": {
        "id": "ETj8YxWGf3BU"
      },
      "outputs": [],
      "source": [
        "# по желанию\n",
        "def ndcg_at_k(recommended_list, bought_list, k=5):\n",
        "    rec = recommended_list\n",
        "    b = bought_list\n",
        "    \n",
        "    recommended_list = np.array(recommended_list)[:k]\n",
        "    bought_list = np.array(bought_list)\n",
        "    \n",
        "    flags = np.isin(recommended_list, bought_list)\n",
        "    rank_list = []\n",
        "    for i in np.arange(len(recommended_list)):\n",
        "        if i < 2:\n",
        "            rank_list.append(i+1)\n",
        "        else:\n",
        "            rank_list.append(math.log2(i+1))\n",
        "    if len(recommended_list) == 0:\n",
        "        return 0\n",
        "    dcg = sum(np.divide(flags, rank_list)) / len(recommended_list)\n",
        "\n",
        "    i_dcg = sum(np.divide(1, rank_list)) / len(recommended_list)\n",
        "\n",
        "    return dcg/i_dcg"
      ]
    },
    {
      "cell_type": "code",
      "source": [
        "ndcg_at_k(recommended_list[:5], bought_list)"
      ],
      "metadata": {
        "id": "hkXKoi9In3uz",
        "outputId": "761e4478-886f-4de6-9c24-9c73f2c3a56c",
        "colab": {
          "base_uri": "https://localhost:8080/"
        }
      },
      "execution_count": null,
      "outputs": [
        {
          "output_type": "execute_result",
          "data": {
            "text/plain": [
              "0.36939097926142717"
            ]
          },
          "metadata": {},
          "execution_count": 54
        }
      ]
    },
    {
      "cell_type": "markdown",
      "metadata": {
        "id": "T7Y-Jtcdo1i6"
      },
      "source": [
        "### Mean Reciprocal Rank ( MRR@k )"
      ]
    },
    {
      "cell_type": "code",
      "execution_count": null,
      "metadata": {
        "id": "zwdpkx_kf3BU"
      },
      "outputs": [],
      "source": [
        "\n",
        "def reciprocal_rank(recommended_list, bought_list, k=5):\n",
        "  recommended_list = np.array(recommended_list)\n",
        "  bought_list = np.array(bought_list)\n",
        "    \n",
        "  amount_user = len(bought_list)\n",
        "  arr = []\n",
        "  for i in np.arange(amount_user):    \n",
        "      relevant_indexes = np.nonzero(np.isin(recommended_list[i][:k], bought_list[i]))[0]\n",
        "      if len(relevant_indexes) != 0:\n",
        "        arr.append(1/(relevant_indexes[0]+1))\n",
        "    \n",
        "      if len(arr) == 0:\n",
        "        return 0\n",
        "    \n",
        "      return sum(arr)/amount_user\n",
        "    # сделать дома\n",
        "  "
      ]
    },
    {
      "cell_type": "code",
      "execution_count": null,
      "metadata": {
        "id": "PD_nEzBNf3BV",
        "outputId": "7a46d07d-13e8-4f65-c461-caa1642d4794",
        "colab": {
          "base_uri": "https://localhost:8080/"
        }
      },
      "outputs": [
        {
          "output_type": "stream",
          "name": "stderr",
          "text": [
            "/usr/local/lib/python3.7/dist-packages/ipykernel_launcher.py:4: VisibleDeprecationWarning: Creating an ndarray from ragged nested sequences (which is a list-or-tuple of lists-or-tuples-or ndarrays with different lengths or shapes) is deprecated. If you meant to do this, you must specify 'dtype=object' when creating the ndarray.\n",
            "  after removing the cwd from sys.path.\n"
          ]
        },
        {
          "output_type": "execute_result",
          "data": {
            "text/plain": [
              "0.3333333333333333"
            ]
          },
          "metadata": {},
          "execution_count": 57
        }
      ],
      "source": [
        "reciprocal_rank(recommended_list_3_users, bought_list_3_users, k=5)"
      ]
    },
    {
      "cell_type": "markdown",
      "metadata": {
        "id": "pdmND1Tuf3BW"
      },
      "source": [
        "# Домашнее задание \n",
        "\n",
        "**1) Приведите еще примеры метрик для оценки рекомендаций/ранжирования (можно взять из интернета, или ваши знания)**\n",
        "\n",
        "**2) Доделать все функции, где стоит комментарий \"сделать дома\"**"
      ]
    },
    {
      "cell_type": "code",
      "execution_count": null,
      "metadata": {
        "id": "jaUJX9vlf3BW"
      },
      "outputs": [],
      "source": [
        ""
      ]
    }
  ],
  "metadata": {
    "colab": {
      "name": "HW_1_1.ipynb",
      "provenance": [],
      "include_colab_link": true
    },
    "kernelspec": {
      "display_name": "Python 3",
      "language": "python",
      "name": "python3"
    },
    "language_info": {
      "codemirror_mode": {
        "name": "ipython",
        "version": 3
      },
      "file_extension": ".py",
      "mimetype": "text/x-python",
      "name": "python",
      "nbconvert_exporter": "python",
      "pygments_lexer": "ipython3",
      "version": "3.8.8"
    }
  },
  "nbformat": 4,
  "nbformat_minor": 0
}